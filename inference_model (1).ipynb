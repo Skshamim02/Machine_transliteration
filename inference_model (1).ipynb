{
  "cells": [
    {
      "cell_type": "code",
      "execution_count": null,
      "metadata": {
        "colab": {
          "base_uri": "https://localhost:8080/"
        },
        "id": "uCkt66e77dEP",
        "outputId": "c0424689-20d5-4014-8360-6acfd7ef97d1"
      },
      "outputs": [
        {
          "name": "stdout",
          "output_type": "stream",
          "text": [
            "Collecting datasets\n",
            "  Downloading datasets-2.13.1-py3-none-any.whl (486 kB)\n",
            "\u001b[2K     \u001b[90m━━━━━━━━━━━━━━━━━━━━━━━━━━━━━━━━━━━━━━\u001b[0m \u001b[32m486.2/486.2 kB\u001b[0m \u001b[31m14.4 MB/s\u001b[0m eta \u001b[36m0:00:00\u001b[0m\n",
            "\u001b[?25hRequirement already satisfied: numpy>=1.17 in /usr/local/lib/python3.10/dist-packages (from datasets) (1.22.4)\n",
            "Requirement already satisfied: pyarrow>=8.0.0 in /usr/local/lib/python3.10/dist-packages (from datasets) (9.0.0)\n",
            "Collecting dill<0.3.7,>=0.3.0 (from datasets)\n",
            "  Downloading dill-0.3.6-py3-none-any.whl (110 kB)\n",
            "\u001b[2K     \u001b[90m━━━━━━━━━━━━━━━━━━━━━━━━━━━━━━━━━━━━━━━\u001b[0m \u001b[32m110.5/110.5 kB\u001b[0m \u001b[31m9.4 MB/s\u001b[0m eta \u001b[36m0:00:00\u001b[0m\n",
            "\u001b[?25hRequirement already satisfied: pandas in /usr/local/lib/python3.10/dist-packages (from datasets) (1.5.3)\n",
            "Requirement already satisfied: requests>=2.19.0 in /usr/local/lib/python3.10/dist-packages (from datasets) (2.27.1)\n",
            "Requirement already satisfied: tqdm>=4.62.1 in /usr/local/lib/python3.10/dist-packages (from datasets) (4.65.0)\n",
            "Collecting xxhash (from datasets)\n",
            "  Downloading xxhash-3.2.0-cp310-cp310-manylinux_2_17_x86_64.manylinux2014_x86_64.whl (212 kB)\n",
            "\u001b[2K     \u001b[90m━━━━━━━━━━━━━━━━━━━━━━━━━━━━━━━━━━━━━━\u001b[0m \u001b[32m212.5/212.5 kB\u001b[0m \u001b[31m18.4 MB/s\u001b[0m eta \u001b[36m0:00:00\u001b[0m\n",
            "\u001b[?25hCollecting multiprocess (from datasets)\n",
            "  Downloading multiprocess-0.70.14-py310-none-any.whl (134 kB)\n",
            "\u001b[2K     \u001b[90m━━━━━━━━━━━━━━━━━━━━━━━━━━━━━━━━━━━━━━\u001b[0m \u001b[32m134.3/134.3 kB\u001b[0m \u001b[31m11.8 MB/s\u001b[0m eta \u001b[36m0:00:00\u001b[0m\n",
            "\u001b[?25hRequirement already satisfied: fsspec[http]>=2021.11.1 in /usr/local/lib/python3.10/dist-packages (from datasets) (2023.6.0)\n",
            "Requirement already satisfied: aiohttp in /usr/local/lib/python3.10/dist-packages (from datasets) (3.8.4)\n",
            "Collecting huggingface-hub<1.0.0,>=0.11.0 (from datasets)\n",
            "  Downloading huggingface_hub-0.16.4-py3-none-any.whl (268 kB)\n",
            "\u001b[2K     \u001b[90m━━━━━━━━━━━━━━━━━━━━━━━━━━━━━━━━━━━━━━\u001b[0m \u001b[32m268.8/268.8 kB\u001b[0m \u001b[31m23.7 MB/s\u001b[0m eta \u001b[36m0:00:00\u001b[0m\n",
            "\u001b[?25hRequirement already satisfied: packaging in /usr/local/lib/python3.10/dist-packages (from datasets) (23.1)\n",
            "Requirement already satisfied: pyyaml>=5.1 in /usr/local/lib/python3.10/dist-packages (from datasets) (6.0)\n",
            "Requirement already satisfied: attrs>=17.3.0 in /usr/local/lib/python3.10/dist-packages (from aiohttp->datasets) (23.1.0)\n",
            "Requirement already satisfied: charset-normalizer<4.0,>=2.0 in /usr/local/lib/python3.10/dist-packages (from aiohttp->datasets) (2.0.12)\n",
            "Requirement already satisfied: multidict<7.0,>=4.5 in /usr/local/lib/python3.10/dist-packages (from aiohttp->datasets) (6.0.4)\n",
            "Requirement already satisfied: async-timeout<5.0,>=4.0.0a3 in /usr/local/lib/python3.10/dist-packages (from aiohttp->datasets) (4.0.2)\n",
            "Requirement already satisfied: yarl<2.0,>=1.0 in /usr/local/lib/python3.10/dist-packages (from aiohttp->datasets) (1.9.2)\n",
            "Requirement already satisfied: frozenlist>=1.1.1 in /usr/local/lib/python3.10/dist-packages (from aiohttp->datasets) (1.3.3)\n",
            "Requirement already satisfied: aiosignal>=1.1.2 in /usr/local/lib/python3.10/dist-packages (from aiohttp->datasets) (1.3.1)\n",
            "Requirement already satisfied: filelock in /usr/local/lib/python3.10/dist-packages (from huggingface-hub<1.0.0,>=0.11.0->datasets) (3.12.2)\n",
            "Requirement already satisfied: typing-extensions>=3.7.4.3 in /usr/local/lib/python3.10/dist-packages (from huggingface-hub<1.0.0,>=0.11.0->datasets) (4.7.1)\n",
            "Requirement already satisfied: urllib3<1.27,>=1.21.1 in /usr/local/lib/python3.10/dist-packages (from requests>=2.19.0->datasets) (1.26.16)\n",
            "Requirement already satisfied: certifi>=2017.4.17 in /usr/local/lib/python3.10/dist-packages (from requests>=2.19.0->datasets) (2023.5.7)\n",
            "Requirement already satisfied: idna<4,>=2.5 in /usr/local/lib/python3.10/dist-packages (from requests>=2.19.0->datasets) (3.4)\n",
            "Requirement already satisfied: python-dateutil>=2.8.1 in /usr/local/lib/python3.10/dist-packages (from pandas->datasets) (2.8.2)\n",
            "Requirement already satisfied: pytz>=2020.1 in /usr/local/lib/python3.10/dist-packages (from pandas->datasets) (2022.7.1)\n",
            "Requirement already satisfied: six>=1.5 in /usr/local/lib/python3.10/dist-packages (from python-dateutil>=2.8.1->pandas->datasets) (1.16.0)\n",
            "Installing collected packages: xxhash, dill, multiprocess, huggingface-hub, datasets\n",
            "Successfully installed datasets-2.13.1 dill-0.3.6 huggingface-hub-0.16.4 multiprocess-0.70.14 xxhash-3.2.0\n"
          ]
        }
      ],
      "source": [
        "!pip install datasets"
      ],
      "id": "uCkt66e77dEP"
    },
    {
      "cell_type": "code",
      "execution_count": null,
      "metadata": {
        "colab": {
          "base_uri": "https://localhost:8080/"
        },
        "id": "CnJCDRqa7vXJ",
        "outputId": "44109f96-e622-4e1d-d46a-88a15d0d95c9"
      },
      "outputs": [
        {
          "name": "stdout",
          "output_type": "stream",
          "text": [
            "Collecting fasttext\n",
            "  Downloading fasttext-0.9.2.tar.gz (68 kB)\n",
            "\u001b[?25l     \u001b[90m━━━━━━━━━━━━━━━━━━━━━━━━━━━━━━━━━━━━━━━━\u001b[0m \u001b[32m0.0/68.8 kB\u001b[0m \u001b[31m?\u001b[0m eta \u001b[36m-:--:--\u001b[0m\r\u001b[2K     \u001b[90m━━━━━━━━━━━━━━━━━━━━━━━━━━━━━━━━━━━━━━━━\u001b[0m \u001b[32m68.8/68.8 kB\u001b[0m \u001b[31m4.0 MB/s\u001b[0m eta \u001b[36m0:00:00\u001b[0m\n",
            "\u001b[?25h  Preparing metadata (setup.py) ... \u001b[?25l\u001b[?25hdone\n",
            "Collecting pybind11>=2.2 (from fasttext)\n",
            "  Using cached pybind11-2.10.4-py3-none-any.whl (222 kB)\n",
            "Requirement already satisfied: setuptools>=0.7.0 in /usr/local/lib/python3.10/dist-packages (from fasttext) (67.7.2)\n",
            "Requirement already satisfied: numpy in /usr/local/lib/python3.10/dist-packages (from fasttext) (1.22.4)\n",
            "Building wheels for collected packages: fasttext\n",
            "  Building wheel for fasttext (setup.py) ... \u001b[?25l\u001b[?25hdone\n",
            "  Created wheel for fasttext: filename=fasttext-0.9.2-cp310-cp310-linux_x86_64.whl size=4393141 sha256=8621c83a6a6d79d6aa69573f595857c3ff6f1987e5ba47bc78b5a95e92e292e2\n",
            "  Stored in directory: /root/.cache/pip/wheels/a5/13/75/f811c84a8ab36eedbaef977a6a58a98990e8e0f1967f98f394\n",
            "Successfully built fasttext\n",
            "Installing collected packages: pybind11, fasttext\n",
            "Successfully installed fasttext-0.9.2 pybind11-2.10.4\n"
          ]
        }
      ],
      "source": [
        "!pip install fasttext"
      ],
      "id": "CnJCDRqa7vXJ"
    },
    {
      "cell_type": "code",
      "execution_count": null,
      "metadata": {
        "id": "7774b0b5"
      },
      "outputs": [],
      "source": [
        "import json\n",
        "from tqdm import tqdm\n",
        "import pandas as pd\n",
        "tqdm.pandas()\n",
        "import numpy as np\n",
        "\n",
        "import tensorflow as tf\n",
        "from tensorflow import keras\n",
        "from keras.preprocessing.text import Tokenizer\n",
        "from tensorflow.keras.preprocessing.sequence import pad_sequences\n",
        "from keras.layers import LSTM, Input, TimeDistributed, Dense, Activation, RepeatVector, Embedding,Bidirectional,Concatenate\n",
        "from keras.optimizers import *\n",
        "\n",
        "from tensorflow.keras.utils import to_categorical\n",
        "\n",
        "import pickle\n",
        "from datasets import load_metric\n",
        "\n",
        "from nltk.translate.bleu_score import corpus_bleu\n",
        "import fasttext\n",
        "import tqdm as notebook_tqdm"
      ],
      "id": "7774b0b5"
    },
    {
      "cell_type": "code",
      "execution_count": null,
      "metadata": {
        "colab": {
          "base_uri": "https://localhost:8080/"
        },
        "id": "38rElK369JxO",
        "outputId": "d7679220-e6ab-47a4-edbb-b44946cf0014"
      },
      "outputs": [
        {
          "name": "stdout",
          "output_type": "stream",
          "text": [
            "Mounted at /content/drive\n"
          ]
        }
      ],
      "source": [
        "from google.colab import drive\n",
        "drive.mount('/content/drive')"
      ],
      "id": "38rElK369JxO"
    },
    {
      "cell_type": "code",
      "execution_count": null,
      "metadata": {
        "id": "a2201bcf"
      },
      "outputs": [],
      "source": [
        "# Read the training data from JSON file\n",
        "train_data = pd.read_json(\"/content/drive/MyDrive/internship/asm_train.json\", lines=True)\n",
        "test_data=pd.read_json(\"/content/drive/MyDrive/internship/asm_test.json\", lines=True)"
      ],
      "id": "a2201bcf"
    },
    {
      "cell_type": "code",
      "execution_count": null,
      "metadata": {
        "id": "45071cb5"
      },
      "outputs": [],
      "source": [
        "#converts the JSON data into a Pandas DataFrame\n",
        "def correct_json_format(json_file_path):\n",
        "    with open(json_file_path, 'r', encoding='utf-8') as file:\n",
        "        json_data = file.read()\n",
        "\n",
        "    # Process the JSON string to insert commas between objects\n",
        "    json_data = json_data.replace('}\\n{', '},{')\n",
        "    json_list = json.loads(f'[{json_data}]')\n",
        "    df = pd.json_normalize(json_list)\n",
        "\n",
        "    return df\n"
      ],
      "id": "45071cb5"
    },
    {
      "cell_type": "code",
      "execution_count": null,
      "metadata": {
        "id": "cb7b7ef0"
      },
      "outputs": [],
      "source": [
        "df_train = correct_json_format(\"/content/drive/MyDrive/internship/asm_train.json\")\n",
        "df_test = correct_json_format(\"/content/drive/MyDrive/internship/asm_test.json\")\n"
      ],
      "id": "cb7b7ef0"
    },
    {
      "cell_type": "code",
      "execution_count": null,
      "metadata": {
        "colab": {
          "base_uri": "https://localhost:8080/",
          "height": 423
        },
        "id": "a634e838",
        "outputId": "6980bb77-fe32-41ee-9f96-6f04cde27820"
      },
      "outputs": [
        {
          "data": {
            "text/html": [
              "\n",
              "\n",
              "  <div id=\"df-8716b7c1-5bbb-4a26-bf1d-d008534768a1\">\n",
              "    <div class=\"colab-df-container\">\n",
              "      <div>\n",
              "<style scoped>\n",
              "    .dataframe tbody tr th:only-of-type {\n",
              "        vertical-align: middle;\n",
              "    }\n",
              "\n",
              "    .dataframe tbody tr th {\n",
              "        vertical-align: top;\n",
              "    }\n",
              "\n",
              "    .dataframe thead th {\n",
              "        text-align: right;\n",
              "    }\n",
              "</style>\n",
              "<table border=\"1\" class=\"dataframe\">\n",
              "  <thead>\n",
              "    <tr style=\"text-align: right;\">\n",
              "      <th></th>\n",
              "      <th>unique_identifier</th>\n",
              "      <th>native word</th>\n",
              "      <th>english word</th>\n",
              "      <th>source</th>\n",
              "      <th>score</th>\n",
              "    </tr>\n",
              "  </thead>\n",
              "  <tbody>\n",
              "    <tr>\n",
              "      <th>0</th>\n",
              "      <td>asm1</td>\n",
              "      <td>দীপলিনা</td>\n",
              "      <td>deeplina</td>\n",
              "      <td>Wikidata</td>\n",
              "      <td>NaN</td>\n",
              "    </tr>\n",
              "    <tr>\n",
              "      <th>1</th>\n",
              "      <td>asm2</td>\n",
              "      <td>বন্দ্যোপাধ্যায়</td>\n",
              "      <td>bandyopadhyay</td>\n",
              "      <td>Wikidata</td>\n",
              "      <td>NaN</td>\n",
              "    </tr>\n",
              "    <tr>\n",
              "      <th>2</th>\n",
              "      <td>asm3</td>\n",
              "      <td>কৃষন</td>\n",
              "      <td>krishan</td>\n",
              "      <td>Wikidata</td>\n",
              "      <td>NaN</td>\n",
              "    </tr>\n",
              "    <tr>\n",
              "      <th>3</th>\n",
              "      <td>asm4</td>\n",
              "      <td>বিষয়া</td>\n",
              "      <td>bishaya</td>\n",
              "      <td>Wikidata</td>\n",
              "      <td>NaN</td>\n",
              "    </tr>\n",
              "    <tr>\n",
              "      <th>4</th>\n",
              "      <td>asm5</td>\n",
              "      <td>পেমা</td>\n",
              "      <td>pema</td>\n",
              "      <td>Wikidata</td>\n",
              "      <td>NaN</td>\n",
              "    </tr>\n",
              "    <tr>\n",
              "      <th>...</th>\n",
              "      <td>...</td>\n",
              "      <td>...</td>\n",
              "      <td>...</td>\n",
              "      <td>...</td>\n",
              "      <td>...</td>\n",
              "    </tr>\n",
              "    <tr>\n",
              "      <th>178625</th>\n",
              "      <td>asm178626</td>\n",
              "      <td>বাগিচাসমূহো</td>\n",
              "      <td>bagisaxomuhu</td>\n",
              "      <td>IndicCorp</td>\n",
              "      <td>-0.058495</td>\n",
              "    </tr>\n",
              "    <tr>\n",
              "      <th>178626</th>\n",
              "      <td>asm178627</td>\n",
              "      <td>কার্যনির্বাহক</td>\n",
              "      <td>karzonirbahok</td>\n",
              "      <td>IndicCorp</td>\n",
              "      <td>-0.222479</td>\n",
              "    </tr>\n",
              "    <tr>\n",
              "      <th>178627</th>\n",
              "      <td>asm178628</td>\n",
              "      <td>এইটি</td>\n",
              "      <td>eiti</td>\n",
              "      <td>IndicCorp</td>\n",
              "      <td>-0.161426</td>\n",
              "    </tr>\n",
              "    <tr>\n",
              "      <th>178628</th>\n",
              "      <td>asm178629</td>\n",
              "      <td>চিত্রশালাত</td>\n",
              "      <td>sitroxalat</td>\n",
              "      <td>IndicCorp</td>\n",
              "      <td>-0.111472</td>\n",
              "    </tr>\n",
              "    <tr>\n",
              "      <th>178629</th>\n",
              "      <td>asm178630</td>\n",
              "      <td>বক্তৃতাৰে</td>\n",
              "      <td>boktritare</td>\n",
              "      <td>IndicCorp</td>\n",
              "      <td>-0.044643</td>\n",
              "    </tr>\n",
              "  </tbody>\n",
              "</table>\n",
              "<p>178630 rows × 5 columns</p>\n",
              "</div>\n",
              "      <button class=\"colab-df-convert\" onclick=\"convertToInteractive('df-8716b7c1-5bbb-4a26-bf1d-d008534768a1')\"\n",
              "              title=\"Convert this dataframe to an interactive table.\"\n",
              "              style=\"display:none;\">\n",
              "\n",
              "  <svg xmlns=\"http://www.w3.org/2000/svg\" height=\"24px\"viewBox=\"0 0 24 24\"\n",
              "       width=\"24px\">\n",
              "    <path d=\"M0 0h24v24H0V0z\" fill=\"none\"/>\n",
              "    <path d=\"M18.56 5.44l.94 2.06.94-2.06 2.06-.94-2.06-.94-.94-2.06-.94 2.06-2.06.94zm-11 1L8.5 8.5l.94-2.06 2.06-.94-2.06-.94L8.5 2.5l-.94 2.06-2.06.94zm10 10l.94 2.06.94-2.06 2.06-.94-2.06-.94-.94-2.06-.94 2.06-2.06.94z\"/><path d=\"M17.41 7.96l-1.37-1.37c-.4-.4-.92-.59-1.43-.59-.52 0-1.04.2-1.43.59L10.3 9.45l-7.72 7.72c-.78.78-.78 2.05 0 2.83L4 21.41c.39.39.9.59 1.41.59.51 0 1.02-.2 1.41-.59l7.78-7.78 2.81-2.81c.8-.78.8-2.07 0-2.86zM5.41 20L4 18.59l7.72-7.72 1.47 1.35L5.41 20z\"/>\n",
              "  </svg>\n",
              "      </button>\n",
              "\n",
              "\n",
              "\n",
              "    <div id=\"df-e3187f12-5265-446b-92b7-7bc2e87dab4b\">\n",
              "      <button class=\"colab-df-quickchart\" onclick=\"quickchart('df-e3187f12-5265-446b-92b7-7bc2e87dab4b')\"\n",
              "              title=\"Suggest charts.\"\n",
              "              style=\"display:none;\">\n",
              "\n",
              "<svg xmlns=\"http://www.w3.org/2000/svg\" height=\"24px\"viewBox=\"0 0 24 24\"\n",
              "     width=\"24px\">\n",
              "    <g>\n",
              "        <path d=\"M19 3H5c-1.1 0-2 .9-2 2v14c0 1.1.9 2 2 2h14c1.1 0 2-.9 2-2V5c0-1.1-.9-2-2-2zM9 17H7v-7h2v7zm4 0h-2V7h2v10zm4 0h-2v-4h2v4z\"/>\n",
              "    </g>\n",
              "</svg>\n",
              "      </button>\n",
              "    </div>\n",
              "\n",
              "<style>\n",
              "  .colab-df-quickchart {\n",
              "    background-color: #E8F0FE;\n",
              "    border: none;\n",
              "    border-radius: 50%;\n",
              "    cursor: pointer;\n",
              "    display: none;\n",
              "    fill: #1967D2;\n",
              "    height: 32px;\n",
              "    padding: 0 0 0 0;\n",
              "    width: 32px;\n",
              "  }\n",
              "\n",
              "  .colab-df-quickchart:hover {\n",
              "    background-color: #E2EBFA;\n",
              "    box-shadow: 0px 1px 2px rgba(60, 64, 67, 0.3), 0px 1px 3px 1px rgba(60, 64, 67, 0.15);\n",
              "    fill: #174EA6;\n",
              "  }\n",
              "\n",
              "  [theme=dark] .colab-df-quickchart {\n",
              "    background-color: #3B4455;\n",
              "    fill: #D2E3FC;\n",
              "  }\n",
              "\n",
              "  [theme=dark] .colab-df-quickchart:hover {\n",
              "    background-color: #434B5C;\n",
              "    box-shadow: 0px 1px 3px 1px rgba(0, 0, 0, 0.15);\n",
              "    filter: drop-shadow(0px 1px 2px rgba(0, 0, 0, 0.3));\n",
              "    fill: #FFFFFF;\n",
              "  }\n",
              "</style>\n",
              "\n",
              "    <script>\n",
              "      async function quickchart(key) {\n",
              "        const containerElement = document.querySelector('#' + key);\n",
              "        const charts = await google.colab.kernel.invokeFunction(\n",
              "            'suggestCharts', [key], {});\n",
              "      }\n",
              "    </script>\n",
              "\n",
              "      <script>\n",
              "\n",
              "function displayQuickchartButton(domScope) {\n",
              "  let quickchartButtonEl =\n",
              "    domScope.querySelector('#df-e3187f12-5265-446b-92b7-7bc2e87dab4b button.colab-df-quickchart');\n",
              "  quickchartButtonEl.style.display =\n",
              "    google.colab.kernel.accessAllowed ? 'block' : 'none';\n",
              "}\n",
              "\n",
              "        displayQuickchartButton(document);\n",
              "      </script>\n",
              "      <style>\n",
              "    .colab-df-container {\n",
              "      display:flex;\n",
              "      flex-wrap:wrap;\n",
              "      gap: 12px;\n",
              "    }\n",
              "\n",
              "    .colab-df-convert {\n",
              "      background-color: #E8F0FE;\n",
              "      border: none;\n",
              "      border-radius: 50%;\n",
              "      cursor: pointer;\n",
              "      display: none;\n",
              "      fill: #1967D2;\n",
              "      height: 32px;\n",
              "      padding: 0 0 0 0;\n",
              "      width: 32px;\n",
              "    }\n",
              "\n",
              "    .colab-df-convert:hover {\n",
              "      background-color: #E2EBFA;\n",
              "      box-shadow: 0px 1px 2px rgba(60, 64, 67, 0.3), 0px 1px 3px 1px rgba(60, 64, 67, 0.15);\n",
              "      fill: #174EA6;\n",
              "    }\n",
              "\n",
              "    [theme=dark] .colab-df-convert {\n",
              "      background-color: #3B4455;\n",
              "      fill: #D2E3FC;\n",
              "    }\n",
              "\n",
              "    [theme=dark] .colab-df-convert:hover {\n",
              "      background-color: #434B5C;\n",
              "      box-shadow: 0px 1px 3px 1px rgba(0, 0, 0, 0.15);\n",
              "      filter: drop-shadow(0px 1px 2px rgba(0, 0, 0, 0.3));\n",
              "      fill: #FFFFFF;\n",
              "    }\n",
              "  </style>\n",
              "\n",
              "      <script>\n",
              "        const buttonEl =\n",
              "          document.querySelector('#df-8716b7c1-5bbb-4a26-bf1d-d008534768a1 button.colab-df-convert');\n",
              "        buttonEl.style.display =\n",
              "          google.colab.kernel.accessAllowed ? 'block' : 'none';\n",
              "\n",
              "        async function convertToInteractive(key) {\n",
              "          const element = document.querySelector('#df-8716b7c1-5bbb-4a26-bf1d-d008534768a1');\n",
              "          const dataTable =\n",
              "            await google.colab.kernel.invokeFunction('convertToInteractive',\n",
              "                                                     [key], {});\n",
              "          if (!dataTable) return;\n",
              "\n",
              "          const docLinkHtml = 'Like what you see? Visit the ' +\n",
              "            '<a target=\"_blank\" href=https://colab.research.google.com/notebooks/data_table.ipynb>data table notebook</a>'\n",
              "            + ' to learn more about interactive tables.';\n",
              "          element.innerHTML = '';\n",
              "          dataTable['output_type'] = 'display_data';\n",
              "          await google.colab.output.renderOutput(dataTable, element);\n",
              "          const docLink = document.createElement('div');\n",
              "          docLink.innerHTML = docLinkHtml;\n",
              "          element.appendChild(docLink);\n",
              "        }\n",
              "      </script>\n",
              "    </div>\n",
              "  </div>\n"
            ],
            "text/plain": [
              "       unique_identifier      native word   english word     source     score\n",
              "0                   asm1          দীপলিনা       deeplina   Wikidata       NaN\n",
              "1                   asm2  বন্দ্যোপাধ্যায়  bandyopadhyay   Wikidata       NaN\n",
              "2                   asm3             কৃষন        krishan   Wikidata       NaN\n",
              "3                   asm4           বিষয়া        bishaya   Wikidata       NaN\n",
              "4                   asm5             পেমা           pema   Wikidata       NaN\n",
              "...                  ...              ...            ...        ...       ...\n",
              "178625         asm178626      বাগিচাসমূহো   bagisaxomuhu  IndicCorp -0.058495\n",
              "178626         asm178627    কার্যনির্বাহক  karzonirbahok  IndicCorp -0.222479\n",
              "178627         asm178628             এইটি           eiti  IndicCorp -0.161426\n",
              "178628         asm178629       চিত্রশালাত     sitroxalat  IndicCorp -0.111472\n",
              "178629         asm178630        বক্তৃতাৰে     boktritare  IndicCorp -0.044643\n",
              "\n",
              "[178630 rows x 5 columns]"
            ]
          },
          "execution_count": 8,
          "metadata": {},
          "output_type": "execute_result"
        }
      ],
      "source": [
        "df_train\n"
      ],
      "id": "a634e838"
    },
    {
      "cell_type": "code",
      "execution_count": null,
      "metadata": {
        "colab": {
          "base_uri": "https://localhost:8080/",
          "height": 423
        },
        "id": "cf3021f1",
        "outputId": "734f312b-a3aa-44cf-92df-073ea620c0b8"
      },
      "outputs": [
        {
          "data": {
            "text/html": [
              "\n",
              "\n",
              "  <div id=\"df-5b09c120-c479-4742-86c9-cabdb427c7a6\">\n",
              "    <div class=\"colab-df-container\">\n",
              "      <div>\n",
              "<style scoped>\n",
              "    .dataframe tbody tr th:only-of-type {\n",
              "        vertical-align: middle;\n",
              "    }\n",
              "\n",
              "    .dataframe tbody tr th {\n",
              "        vertical-align: top;\n",
              "    }\n",
              "\n",
              "    .dataframe thead th {\n",
              "        text-align: right;\n",
              "    }\n",
              "</style>\n",
              "<table border=\"1\" class=\"dataframe\">\n",
              "  <thead>\n",
              "    <tr style=\"text-align: right;\">\n",
              "      <th></th>\n",
              "      <th>unique_identifier</th>\n",
              "      <th>native word</th>\n",
              "      <th>english word</th>\n",
              "      <th>source</th>\n",
              "    </tr>\n",
              "  </thead>\n",
              "  <tbody>\n",
              "    <tr>\n",
              "      <th>0</th>\n",
              "      <td>asm1</td>\n",
              "      <td>লক্ষীনগৰস্থিত</td>\n",
              "      <td>lakhyeenogorsthito</td>\n",
              "      <td>AK-Freq</td>\n",
              "    </tr>\n",
              "    <tr>\n",
              "      <th>1</th>\n",
              "      <td>asm2</td>\n",
              "      <td>চতুৰ্থ</td>\n",
              "      <td>soturtho</td>\n",
              "      <td>AK-Freq</td>\n",
              "    </tr>\n",
              "    <tr>\n",
              "      <th>2</th>\n",
              "      <td>asm3</td>\n",
              "      <td>এইখন</td>\n",
              "      <td>eikhan</td>\n",
              "      <td>AK-Freq</td>\n",
              "    </tr>\n",
              "    <tr>\n",
              "      <th>3</th>\n",
              "      <td>asm4</td>\n",
              "      <td>প্ৰতিমূৰ্তিসমূহ</td>\n",
              "      <td>protimurtixomuh</td>\n",
              "      <td>AK-Freq</td>\n",
              "    </tr>\n",
              "    <tr>\n",
              "      <th>4</th>\n",
              "      <td>asm5</td>\n",
              "      <td>প্ৰতিযোগিতাতে</td>\n",
              "      <td>protijugitate</td>\n",
              "      <td>AK-Freq</td>\n",
              "    </tr>\n",
              "    <tr>\n",
              "      <th>...</th>\n",
              "      <td>...</td>\n",
              "      <td>...</td>\n",
              "      <td>...</td>\n",
              "      <td>...</td>\n",
              "    </tr>\n",
              "    <tr>\n",
              "      <th>5501</th>\n",
              "      <td>asm5502</td>\n",
              "      <td>ঝা</td>\n",
              "      <td>jha</td>\n",
              "      <td>AK-NEI</td>\n",
              "    </tr>\n",
              "    <tr>\n",
              "      <th>5502</th>\n",
              "      <td>asm5503</td>\n",
              "      <td>এলেকন</td>\n",
              "      <td>elecon</td>\n",
              "      <td>AK-NEI</td>\n",
              "    </tr>\n",
              "    <tr>\n",
              "      <th>5503</th>\n",
              "      <td>asm5504</td>\n",
              "      <td>ডেচাবাথুলা</td>\n",
              "      <td>desabathula</td>\n",
              "      <td>AK-NEI</td>\n",
              "    </tr>\n",
              "    <tr>\n",
              "      <th>5504</th>\n",
              "      <td>asm5505</td>\n",
              "      <td>কাৰখেলে</td>\n",
              "      <td>karkhele</td>\n",
              "      <td>AK-NEI</td>\n",
              "    </tr>\n",
              "    <tr>\n",
              "      <th>5505</th>\n",
              "      <td>asm5506</td>\n",
              "      <td>বালিগা</td>\n",
              "      <td>baliga</td>\n",
              "      <td>AK-NEI</td>\n",
              "    </tr>\n",
              "  </tbody>\n",
              "</table>\n",
              "<p>5506 rows × 4 columns</p>\n",
              "</div>\n",
              "      <button class=\"colab-df-convert\" onclick=\"convertToInteractive('df-5b09c120-c479-4742-86c9-cabdb427c7a6')\"\n",
              "              title=\"Convert this dataframe to an interactive table.\"\n",
              "              style=\"display:none;\">\n",
              "\n",
              "  <svg xmlns=\"http://www.w3.org/2000/svg\" height=\"24px\"viewBox=\"0 0 24 24\"\n",
              "       width=\"24px\">\n",
              "    <path d=\"M0 0h24v24H0V0z\" fill=\"none\"/>\n",
              "    <path d=\"M18.56 5.44l.94 2.06.94-2.06 2.06-.94-2.06-.94-.94-2.06-.94 2.06-2.06.94zm-11 1L8.5 8.5l.94-2.06 2.06-.94-2.06-.94L8.5 2.5l-.94 2.06-2.06.94zm10 10l.94 2.06.94-2.06 2.06-.94-2.06-.94-.94-2.06-.94 2.06-2.06.94z\"/><path d=\"M17.41 7.96l-1.37-1.37c-.4-.4-.92-.59-1.43-.59-.52 0-1.04.2-1.43.59L10.3 9.45l-7.72 7.72c-.78.78-.78 2.05 0 2.83L4 21.41c.39.39.9.59 1.41.59.51 0 1.02-.2 1.41-.59l7.78-7.78 2.81-2.81c.8-.78.8-2.07 0-2.86zM5.41 20L4 18.59l7.72-7.72 1.47 1.35L5.41 20z\"/>\n",
              "  </svg>\n",
              "      </button>\n",
              "\n",
              "\n",
              "\n",
              "    <div id=\"df-09ea2d41-6daa-46da-9542-b6235939c0ab\">\n",
              "      <button class=\"colab-df-quickchart\" onclick=\"quickchart('df-09ea2d41-6daa-46da-9542-b6235939c0ab')\"\n",
              "              title=\"Suggest charts.\"\n",
              "              style=\"display:none;\">\n",
              "\n",
              "<svg xmlns=\"http://www.w3.org/2000/svg\" height=\"24px\"viewBox=\"0 0 24 24\"\n",
              "     width=\"24px\">\n",
              "    <g>\n",
              "        <path d=\"M19 3H5c-1.1 0-2 .9-2 2v14c0 1.1.9 2 2 2h14c1.1 0 2-.9 2-2V5c0-1.1-.9-2-2-2zM9 17H7v-7h2v7zm4 0h-2V7h2v10zm4 0h-2v-4h2v4z\"/>\n",
              "    </g>\n",
              "</svg>\n",
              "      </button>\n",
              "    </div>\n",
              "\n",
              "<style>\n",
              "  .colab-df-quickchart {\n",
              "    background-color: #E8F0FE;\n",
              "    border: none;\n",
              "    border-radius: 50%;\n",
              "    cursor: pointer;\n",
              "    display: none;\n",
              "    fill: #1967D2;\n",
              "    height: 32px;\n",
              "    padding: 0 0 0 0;\n",
              "    width: 32px;\n",
              "  }\n",
              "\n",
              "  .colab-df-quickchart:hover {\n",
              "    background-color: #E2EBFA;\n",
              "    box-shadow: 0px 1px 2px rgba(60, 64, 67, 0.3), 0px 1px 3px 1px rgba(60, 64, 67, 0.15);\n",
              "    fill: #174EA6;\n",
              "  }\n",
              "\n",
              "  [theme=dark] .colab-df-quickchart {\n",
              "    background-color: #3B4455;\n",
              "    fill: #D2E3FC;\n",
              "  }\n",
              "\n",
              "  [theme=dark] .colab-df-quickchart:hover {\n",
              "    background-color: #434B5C;\n",
              "    box-shadow: 0px 1px 3px 1px rgba(0, 0, 0, 0.15);\n",
              "    filter: drop-shadow(0px 1px 2px rgba(0, 0, 0, 0.3));\n",
              "    fill: #FFFFFF;\n",
              "  }\n",
              "</style>\n",
              "\n",
              "    <script>\n",
              "      async function quickchart(key) {\n",
              "        const containerElement = document.querySelector('#' + key);\n",
              "        const charts = await google.colab.kernel.invokeFunction(\n",
              "            'suggestCharts', [key], {});\n",
              "      }\n",
              "    </script>\n",
              "\n",
              "      <script>\n",
              "\n",
              "function displayQuickchartButton(domScope) {\n",
              "  let quickchartButtonEl =\n",
              "    domScope.querySelector('#df-09ea2d41-6daa-46da-9542-b6235939c0ab button.colab-df-quickchart');\n",
              "  quickchartButtonEl.style.display =\n",
              "    google.colab.kernel.accessAllowed ? 'block' : 'none';\n",
              "}\n",
              "\n",
              "        displayQuickchartButton(document);\n",
              "      </script>\n",
              "      <style>\n",
              "    .colab-df-container {\n",
              "      display:flex;\n",
              "      flex-wrap:wrap;\n",
              "      gap: 12px;\n",
              "    }\n",
              "\n",
              "    .colab-df-convert {\n",
              "      background-color: #E8F0FE;\n",
              "      border: none;\n",
              "      border-radius: 50%;\n",
              "      cursor: pointer;\n",
              "      display: none;\n",
              "      fill: #1967D2;\n",
              "      height: 32px;\n",
              "      padding: 0 0 0 0;\n",
              "      width: 32px;\n",
              "    }\n",
              "\n",
              "    .colab-df-convert:hover {\n",
              "      background-color: #E2EBFA;\n",
              "      box-shadow: 0px 1px 2px rgba(60, 64, 67, 0.3), 0px 1px 3px 1px rgba(60, 64, 67, 0.15);\n",
              "      fill: #174EA6;\n",
              "    }\n",
              "\n",
              "    [theme=dark] .colab-df-convert {\n",
              "      background-color: #3B4455;\n",
              "      fill: #D2E3FC;\n",
              "    }\n",
              "\n",
              "    [theme=dark] .colab-df-convert:hover {\n",
              "      background-color: #434B5C;\n",
              "      box-shadow: 0px 1px 3px 1px rgba(0, 0, 0, 0.15);\n",
              "      filter: drop-shadow(0px 1px 2px rgba(0, 0, 0, 0.3));\n",
              "      fill: #FFFFFF;\n",
              "    }\n",
              "  </style>\n",
              "\n",
              "      <script>\n",
              "        const buttonEl =\n",
              "          document.querySelector('#df-5b09c120-c479-4742-86c9-cabdb427c7a6 button.colab-df-convert');\n",
              "        buttonEl.style.display =\n",
              "          google.colab.kernel.accessAllowed ? 'block' : 'none';\n",
              "\n",
              "        async function convertToInteractive(key) {\n",
              "          const element = document.querySelector('#df-5b09c120-c479-4742-86c9-cabdb427c7a6');\n",
              "          const dataTable =\n",
              "            await google.colab.kernel.invokeFunction('convertToInteractive',\n",
              "                                                     [key], {});\n",
              "          if (!dataTable) return;\n",
              "\n",
              "          const docLinkHtml = 'Like what you see? Visit the ' +\n",
              "            '<a target=\"_blank\" href=https://colab.research.google.com/notebooks/data_table.ipynb>data table notebook</a>'\n",
              "            + ' to learn more about interactive tables.';\n",
              "          element.innerHTML = '';\n",
              "          dataTable['output_type'] = 'display_data';\n",
              "          await google.colab.output.renderOutput(dataTable, element);\n",
              "          const docLink = document.createElement('div');\n",
              "          docLink.innerHTML = docLinkHtml;\n",
              "          element.appendChild(docLink);\n",
              "        }\n",
              "      </script>\n",
              "    </div>\n",
              "  </div>\n"
            ],
            "text/plain": [
              "     unique_identifier      native word        english word   source\n",
              "0                 asm1    লক্ষীনগৰস্থিত  lakhyeenogorsthito  AK-Freq\n",
              "1                 asm2           চতুৰ্থ            soturtho  AK-Freq\n",
              "2                 asm3             এইখন              eikhan  AK-Freq\n",
              "3                 asm4  প্ৰতিমূৰ্তিসমূহ     protimurtixomuh  AK-Freq\n",
              "4                 asm5    প্ৰতিযোগিতাতে       protijugitate  AK-Freq\n",
              "...                ...              ...                 ...      ...\n",
              "5501           asm5502               ঝা                 jha   AK-NEI\n",
              "5502           asm5503            এলেকন              elecon   AK-NEI\n",
              "5503           asm5504       ডেচাবাথুলা         desabathula   AK-NEI\n",
              "5504           asm5505          কাৰখেলে            karkhele   AK-NEI\n",
              "5505           asm5506           বালিগা              baliga   AK-NEI\n",
              "\n",
              "[5506 rows x 4 columns]"
            ]
          },
          "execution_count": 9,
          "metadata": {},
          "output_type": "execute_result"
        }
      ],
      "source": [
        "df_test"
      ],
      "id": "cf3021f1"
    },
    {
      "cell_type": "code",
      "execution_count": null,
      "metadata": {
        "colab": {
          "base_uri": "https://localhost:8080/"
        },
        "id": "rMUxstVM-D6N",
        "outputId": "3405dcf6-cb84-443c-cfb7-aa907a09b3a6"
      },
      "outputs": [
        {
          "data": {
            "text/plain": [
              "(53589, 5)"
            ]
          },
          "execution_count": 10,
          "metadata": {},
          "output_type": "execute_result"
        }
      ],
      "source": [
        "#subset train DataFrame\n",
        "subset_df_train=df_train.sample(frac=0.3).reset_index(drop=True)\n",
        "subset_df_train.shape"
      ],
      "id": "rMUxstVM-D6N"
    },
    {
      "cell_type": "code",
      "execution_count": null,
      "metadata": {
        "colab": {
          "base_uri": "https://localhost:8080/"
        },
        "id": "1-AKQ76T-rs8",
        "outputId": "3474766c-0856-48bf-be85-2f09c5448281"
      },
      "outputs": [
        {
          "data": {
            "text/plain": [
              "(53589, 5)"
            ]
          },
          "execution_count": 11,
          "metadata": {},
          "output_type": "execute_result"
        }
      ],
      "source": [
        "df_train=subset_df_train\n",
        "df_train.shape"
      ],
      "id": "1-AKQ76T-rs8"
    },
    {
      "cell_type": "code",
      "execution_count": null,
      "metadata": {
        "id": "de9664f3"
      },
      "outputs": [],
      "source": [
        " #start symbol \"\\t\" at the beginning of the text and an end symbol \"\\n\" at the end of the text(target_text)\n",
        "def add_start_end(target_text):\n",
        "  text = \"\\t\" + target_text + \"\\n\"\n",
        "  return text\n"
      ],
      "id": "de9664f3"
    },
    {
      "cell_type": "code",
      "execution_count": null,
      "metadata": {
        "colab": {
          "base_uri": "https://localhost:8080/",
          "height": 223
        },
        "id": "d7f9df9b",
        "outputId": "a5e5194f-6977-42d6-abde-2873c818eee5"
      },
      "outputs": [
        {
          "name": "stderr",
          "output_type": "stream",
          "text": [
            "100%|██████████| 53589/53589 [00:00<00:00, 524995.81it/s]\n"
          ]
        },
        {
          "data": {
            "text/html": [
              "\n",
              "\n",
              "  <div id=\"df-5d4d3822-cbb2-429d-a69b-12fcc4100b94\">\n",
              "    <div class=\"colab-df-container\">\n",
              "      <div>\n",
              "<style scoped>\n",
              "    .dataframe tbody tr th:only-of-type {\n",
              "        vertical-align: middle;\n",
              "    }\n",
              "\n",
              "    .dataframe tbody tr th {\n",
              "        vertical-align: top;\n",
              "    }\n",
              "\n",
              "    .dataframe thead th {\n",
              "        text-align: right;\n",
              "    }\n",
              "</style>\n",
              "<table border=\"1\" class=\"dataframe\">\n",
              "  <thead>\n",
              "    <tr style=\"text-align: right;\">\n",
              "      <th></th>\n",
              "      <th>unique_identifier</th>\n",
              "      <th>native word</th>\n",
              "      <th>english word</th>\n",
              "      <th>source</th>\n",
              "      <th>score</th>\n",
              "      <th>target_ass</th>\n",
              "    </tr>\n",
              "  </thead>\n",
              "  <tbody>\n",
              "    <tr>\n",
              "      <th>0</th>\n",
              "      <td>asm134587</td>\n",
              "      <td>বাগানাপাৰা</td>\n",
              "      <td>baganapara</td>\n",
              "      <td>IndicCorp</td>\n",
              "      <td>-0.041089</td>\n",
              "      <td>\\tবাগানাপাৰা\\n</td>\n",
              "    </tr>\n",
              "    <tr>\n",
              "      <th>1</th>\n",
              "      <td>asm93075</td>\n",
              "      <td>নুচুলে</td>\n",
              "      <td>nusule</td>\n",
              "      <td>IndicCorp</td>\n",
              "      <td>-0.123643</td>\n",
              "      <td>\\tনুচুলে\\n</td>\n",
              "    </tr>\n",
              "    <tr>\n",
              "      <th>2</th>\n",
              "      <td>asm108867</td>\n",
              "      <td>চন্দ্ৰিকাই</td>\n",
              "      <td>sondrikai</td>\n",
              "      <td>IndicCorp</td>\n",
              "      <td>-0.138856</td>\n",
              "      <td>\\tচন্দ্ৰিকাই\\n</td>\n",
              "    </tr>\n",
              "    <tr>\n",
              "      <th>3</th>\n",
              "      <td>asm173819</td>\n",
              "      <td>ছিঙিলে</td>\n",
              "      <td>singile</td>\n",
              "      <td>IndicCorp</td>\n",
              "      <td>-0.171640</td>\n",
              "      <td>\\tছিঙিলে\\n</td>\n",
              "    </tr>\n",
              "    <tr>\n",
              "      <th>4</th>\n",
              "      <td>asm97196</td>\n",
              "      <td>বলাৰসকলক</td>\n",
              "      <td>bolarxokolok</td>\n",
              "      <td>IndicCorp</td>\n",
              "      <td>-0.016239</td>\n",
              "      <td>\\tবলাৰসকলক\\n</td>\n",
              "    </tr>\n",
              "  </tbody>\n",
              "</table>\n",
              "</div>\n",
              "      <button class=\"colab-df-convert\" onclick=\"convertToInteractive('df-5d4d3822-cbb2-429d-a69b-12fcc4100b94')\"\n",
              "              title=\"Convert this dataframe to an interactive table.\"\n",
              "              style=\"display:none;\">\n",
              "\n",
              "  <svg xmlns=\"http://www.w3.org/2000/svg\" height=\"24px\"viewBox=\"0 0 24 24\"\n",
              "       width=\"24px\">\n",
              "    <path d=\"M0 0h24v24H0V0z\" fill=\"none\"/>\n",
              "    <path d=\"M18.56 5.44l.94 2.06.94-2.06 2.06-.94-2.06-.94-.94-2.06-.94 2.06-2.06.94zm-11 1L8.5 8.5l.94-2.06 2.06-.94-2.06-.94L8.5 2.5l-.94 2.06-2.06.94zm10 10l.94 2.06.94-2.06 2.06-.94-2.06-.94-.94-2.06-.94 2.06-2.06.94z\"/><path d=\"M17.41 7.96l-1.37-1.37c-.4-.4-.92-.59-1.43-.59-.52 0-1.04.2-1.43.59L10.3 9.45l-7.72 7.72c-.78.78-.78 2.05 0 2.83L4 21.41c.39.39.9.59 1.41.59.51 0 1.02-.2 1.41-.59l7.78-7.78 2.81-2.81c.8-.78.8-2.07 0-2.86zM5.41 20L4 18.59l7.72-7.72 1.47 1.35L5.41 20z\"/>\n",
              "  </svg>\n",
              "      </button>\n",
              "\n",
              "\n",
              "\n",
              "    <div id=\"df-dbb94304-f45e-4f98-b099-11f59348b9be\">\n",
              "      <button class=\"colab-df-quickchart\" onclick=\"quickchart('df-dbb94304-f45e-4f98-b099-11f59348b9be')\"\n",
              "              title=\"Suggest charts.\"\n",
              "              style=\"display:none;\">\n",
              "\n",
              "<svg xmlns=\"http://www.w3.org/2000/svg\" height=\"24px\"viewBox=\"0 0 24 24\"\n",
              "     width=\"24px\">\n",
              "    <g>\n",
              "        <path d=\"M19 3H5c-1.1 0-2 .9-2 2v14c0 1.1.9 2 2 2h14c1.1 0 2-.9 2-2V5c0-1.1-.9-2-2-2zM9 17H7v-7h2v7zm4 0h-2V7h2v10zm4 0h-2v-4h2v4z\"/>\n",
              "    </g>\n",
              "</svg>\n",
              "      </button>\n",
              "    </div>\n",
              "\n",
              "<style>\n",
              "  .colab-df-quickchart {\n",
              "    background-color: #E8F0FE;\n",
              "    border: none;\n",
              "    border-radius: 50%;\n",
              "    cursor: pointer;\n",
              "    display: none;\n",
              "    fill: #1967D2;\n",
              "    height: 32px;\n",
              "    padding: 0 0 0 0;\n",
              "    width: 32px;\n",
              "  }\n",
              "\n",
              "  .colab-df-quickchart:hover {\n",
              "    background-color: #E2EBFA;\n",
              "    box-shadow: 0px 1px 2px rgba(60, 64, 67, 0.3), 0px 1px 3px 1px rgba(60, 64, 67, 0.15);\n",
              "    fill: #174EA6;\n",
              "  }\n",
              "\n",
              "  [theme=dark] .colab-df-quickchart {\n",
              "    background-color: #3B4455;\n",
              "    fill: #D2E3FC;\n",
              "  }\n",
              "\n",
              "  [theme=dark] .colab-df-quickchart:hover {\n",
              "    background-color: #434B5C;\n",
              "    box-shadow: 0px 1px 3px 1px rgba(0, 0, 0, 0.15);\n",
              "    filter: drop-shadow(0px 1px 2px rgba(0, 0, 0, 0.3));\n",
              "    fill: #FFFFFF;\n",
              "  }\n",
              "</style>\n",
              "\n",
              "    <script>\n",
              "      async function quickchart(key) {\n",
              "        const containerElement = document.querySelector('#' + key);\n",
              "        const charts = await google.colab.kernel.invokeFunction(\n",
              "            'suggestCharts', [key], {});\n",
              "      }\n",
              "    </script>\n",
              "\n",
              "      <script>\n",
              "\n",
              "function displayQuickchartButton(domScope) {\n",
              "  let quickchartButtonEl =\n",
              "    domScope.querySelector('#df-dbb94304-f45e-4f98-b099-11f59348b9be button.colab-df-quickchart');\n",
              "  quickchartButtonEl.style.display =\n",
              "    google.colab.kernel.accessAllowed ? 'block' : 'none';\n",
              "}\n",
              "\n",
              "        displayQuickchartButton(document);\n",
              "      </script>\n",
              "      <style>\n",
              "    .colab-df-container {\n",
              "      display:flex;\n",
              "      flex-wrap:wrap;\n",
              "      gap: 12px;\n",
              "    }\n",
              "\n",
              "    .colab-df-convert {\n",
              "      background-color: #E8F0FE;\n",
              "      border: none;\n",
              "      border-radius: 50%;\n",
              "      cursor: pointer;\n",
              "      display: none;\n",
              "      fill: #1967D2;\n",
              "      height: 32px;\n",
              "      padding: 0 0 0 0;\n",
              "      width: 32px;\n",
              "    }\n",
              "\n",
              "    .colab-df-convert:hover {\n",
              "      background-color: #E2EBFA;\n",
              "      box-shadow: 0px 1px 2px rgba(60, 64, 67, 0.3), 0px 1px 3px 1px rgba(60, 64, 67, 0.15);\n",
              "      fill: #174EA6;\n",
              "    }\n",
              "\n",
              "    [theme=dark] .colab-df-convert {\n",
              "      background-color: #3B4455;\n",
              "      fill: #D2E3FC;\n",
              "    }\n",
              "\n",
              "    [theme=dark] .colab-df-convert:hover {\n",
              "      background-color: #434B5C;\n",
              "      box-shadow: 0px 1px 3px 1px rgba(0, 0, 0, 0.15);\n",
              "      filter: drop-shadow(0px 1px 2px rgba(0, 0, 0, 0.3));\n",
              "      fill: #FFFFFF;\n",
              "    }\n",
              "  </style>\n",
              "\n",
              "      <script>\n",
              "        const buttonEl =\n",
              "          document.querySelector('#df-5d4d3822-cbb2-429d-a69b-12fcc4100b94 button.colab-df-convert');\n",
              "        buttonEl.style.display =\n",
              "          google.colab.kernel.accessAllowed ? 'block' : 'none';\n",
              "\n",
              "        async function convertToInteractive(key) {\n",
              "          const element = document.querySelector('#df-5d4d3822-cbb2-429d-a69b-12fcc4100b94');\n",
              "          const dataTable =\n",
              "            await google.colab.kernel.invokeFunction('convertToInteractive',\n",
              "                                                     [key], {});\n",
              "          if (!dataTable) return;\n",
              "\n",
              "          const docLinkHtml = 'Like what you see? Visit the ' +\n",
              "            '<a target=\"_blank\" href=https://colab.research.google.com/notebooks/data_table.ipynb>data table notebook</a>'\n",
              "            + ' to learn more about interactive tables.';\n",
              "          element.innerHTML = '';\n",
              "          dataTable['output_type'] = 'display_data';\n",
              "          await google.colab.output.renderOutput(dataTable, element);\n",
              "          const docLink = document.createElement('div');\n",
              "          docLink.innerHTML = docLinkHtml;\n",
              "          element.appendChild(docLink);\n",
              "        }\n",
              "      </script>\n",
              "    </div>\n",
              "  </div>\n"
            ],
            "text/plain": [
              "  unique_identifier native word  english word     source     score  \\\n",
              "0         asm134587  বাগানাপাৰা    baganapara  IndicCorp -0.041089   \n",
              "1          asm93075      নুচুলে        nusule  IndicCorp -0.123643   \n",
              "2         asm108867  চন্দ্ৰিকাই     sondrikai  IndicCorp -0.138856   \n",
              "3         asm173819      ছিঙিলে       singile  IndicCorp -0.171640   \n",
              "4          asm97196    বলাৰসকলক  bolarxokolok  IndicCorp -0.016239   \n",
              "\n",
              "       target_ass  \n",
              "0  \\tবাগানাপাৰা\\n  \n",
              "1      \\tনুচুলে\\n  \n",
              "2  \\tচন্দ্ৰিকাই\\n  \n",
              "3      \\tছিঙিলে\\n  \n",
              "4    \\tবলাৰসকলক\\n  "
            ]
          },
          "execution_count": 13,
          "metadata": {},
          "output_type": "execute_result"
        }
      ],
      "source": [
        "#the DataFrame df_train will have a new column 'target_ass' containing the original text values from the 'native word' column with a start symbol \"\\t\" at the beginning and an end symbol \"\\n\" at the end of each text value.\n",
        "df_train['target_ass'] = df_train['native word'].progress_apply(add_start_end)\n",
        "df_train.head()"
      ],
      "id": "d7f9df9b"
    },
    {
      "cell_type": "code",
      "execution_count": null,
      "metadata": {
        "id": "c0ab3ccc"
      },
      "outputs": [],
      "source": [
        "# add only the end token\n",
        "# add_end takes a string target_text as input and adds an end symbol \"\\n\"\n",
        "def add_end(target_text):\n",
        "  text = target_text + \"\\n\"\n",
        "  return text"
      ],
      "id": "c0ab3ccc"
    },
    {
      "cell_type": "code",
      "execution_count": null,
      "metadata": {
        "colab": {
          "base_uri": "https://localhost:8080/",
          "height": 223
        },
        "id": "11ccb74c",
        "outputId": "9e38804c-d8f4-424b-a86d-c25766505054"
      },
      "outputs": [
        {
          "name": "stderr",
          "output_type": "stream",
          "text": [
            "100%|██████████| 53589/53589 [00:00<00:00, 568245.97it/s]\n"
          ]
        },
        {
          "data": {
            "text/html": [
              "\n",
              "\n",
              "  <div id=\"df-23edca58-e2f6-4e6e-bfc8-88e12ffc7908\">\n",
              "    <div class=\"colab-df-container\">\n",
              "      <div>\n",
              "<style scoped>\n",
              "    .dataframe tbody tr th:only-of-type {\n",
              "        vertical-align: middle;\n",
              "    }\n",
              "\n",
              "    .dataframe tbody tr th {\n",
              "        vertical-align: top;\n",
              "    }\n",
              "\n",
              "    .dataframe thead th {\n",
              "        text-align: right;\n",
              "    }\n",
              "</style>\n",
              "<table border=\"1\" class=\"dataframe\">\n",
              "  <thead>\n",
              "    <tr style=\"text-align: right;\">\n",
              "      <th></th>\n",
              "      <th>unique_identifier</th>\n",
              "      <th>native word</th>\n",
              "      <th>english word</th>\n",
              "      <th>source</th>\n",
              "      <th>score</th>\n",
              "      <th>target_ass</th>\n",
              "      <th>decoder_target</th>\n",
              "    </tr>\n",
              "  </thead>\n",
              "  <tbody>\n",
              "    <tr>\n",
              "      <th>0</th>\n",
              "      <td>asm134587</td>\n",
              "      <td>বাগানাপাৰা</td>\n",
              "      <td>baganapara</td>\n",
              "      <td>IndicCorp</td>\n",
              "      <td>-0.041089</td>\n",
              "      <td>\\tবাগানাপাৰা\\n</td>\n",
              "      <td>বাগানাপাৰা\\n</td>\n",
              "    </tr>\n",
              "    <tr>\n",
              "      <th>1</th>\n",
              "      <td>asm93075</td>\n",
              "      <td>নুচুলে</td>\n",
              "      <td>nusule</td>\n",
              "      <td>IndicCorp</td>\n",
              "      <td>-0.123643</td>\n",
              "      <td>\\tনুচুলে\\n</td>\n",
              "      <td>নুচুলে\\n</td>\n",
              "    </tr>\n",
              "    <tr>\n",
              "      <th>2</th>\n",
              "      <td>asm108867</td>\n",
              "      <td>চন্দ্ৰিকাই</td>\n",
              "      <td>sondrikai</td>\n",
              "      <td>IndicCorp</td>\n",
              "      <td>-0.138856</td>\n",
              "      <td>\\tচন্দ্ৰিকাই\\n</td>\n",
              "      <td>চন্দ্ৰিকাই\\n</td>\n",
              "    </tr>\n",
              "    <tr>\n",
              "      <th>3</th>\n",
              "      <td>asm173819</td>\n",
              "      <td>ছিঙিলে</td>\n",
              "      <td>singile</td>\n",
              "      <td>IndicCorp</td>\n",
              "      <td>-0.171640</td>\n",
              "      <td>\\tছিঙিলে\\n</td>\n",
              "      <td>ছিঙিলে\\n</td>\n",
              "    </tr>\n",
              "    <tr>\n",
              "      <th>4</th>\n",
              "      <td>asm97196</td>\n",
              "      <td>বলাৰসকলক</td>\n",
              "      <td>bolarxokolok</td>\n",
              "      <td>IndicCorp</td>\n",
              "      <td>-0.016239</td>\n",
              "      <td>\\tবলাৰসকলক\\n</td>\n",
              "      <td>বলাৰসকলক\\n</td>\n",
              "    </tr>\n",
              "  </tbody>\n",
              "</table>\n",
              "</div>\n",
              "      <button class=\"colab-df-convert\" onclick=\"convertToInteractive('df-23edca58-e2f6-4e6e-bfc8-88e12ffc7908')\"\n",
              "              title=\"Convert this dataframe to an interactive table.\"\n",
              "              style=\"display:none;\">\n",
              "\n",
              "  <svg xmlns=\"http://www.w3.org/2000/svg\" height=\"24px\"viewBox=\"0 0 24 24\"\n",
              "       width=\"24px\">\n",
              "    <path d=\"M0 0h24v24H0V0z\" fill=\"none\"/>\n",
              "    <path d=\"M18.56 5.44l.94 2.06.94-2.06 2.06-.94-2.06-.94-.94-2.06-.94 2.06-2.06.94zm-11 1L8.5 8.5l.94-2.06 2.06-.94-2.06-.94L8.5 2.5l-.94 2.06-2.06.94zm10 10l.94 2.06.94-2.06 2.06-.94-2.06-.94-.94-2.06-.94 2.06-2.06.94z\"/><path d=\"M17.41 7.96l-1.37-1.37c-.4-.4-.92-.59-1.43-.59-.52 0-1.04.2-1.43.59L10.3 9.45l-7.72 7.72c-.78.78-.78 2.05 0 2.83L4 21.41c.39.39.9.59 1.41.59.51 0 1.02-.2 1.41-.59l7.78-7.78 2.81-2.81c.8-.78.8-2.07 0-2.86zM5.41 20L4 18.59l7.72-7.72 1.47 1.35L5.41 20z\"/>\n",
              "  </svg>\n",
              "      </button>\n",
              "\n",
              "\n",
              "\n",
              "    <div id=\"df-8821a5a9-ea76-44c0-8bc6-5d0e12af7302\">\n",
              "      <button class=\"colab-df-quickchart\" onclick=\"quickchart('df-8821a5a9-ea76-44c0-8bc6-5d0e12af7302')\"\n",
              "              title=\"Suggest charts.\"\n",
              "              style=\"display:none;\">\n",
              "\n",
              "<svg xmlns=\"http://www.w3.org/2000/svg\" height=\"24px\"viewBox=\"0 0 24 24\"\n",
              "     width=\"24px\">\n",
              "    <g>\n",
              "        <path d=\"M19 3H5c-1.1 0-2 .9-2 2v14c0 1.1.9 2 2 2h14c1.1 0 2-.9 2-2V5c0-1.1-.9-2-2-2zM9 17H7v-7h2v7zm4 0h-2V7h2v10zm4 0h-2v-4h2v4z\"/>\n",
              "    </g>\n",
              "</svg>\n",
              "      </button>\n",
              "    </div>\n",
              "\n",
              "<style>\n",
              "  .colab-df-quickchart {\n",
              "    background-color: #E8F0FE;\n",
              "    border: none;\n",
              "    border-radius: 50%;\n",
              "    cursor: pointer;\n",
              "    display: none;\n",
              "    fill: #1967D2;\n",
              "    height: 32px;\n",
              "    padding: 0 0 0 0;\n",
              "    width: 32px;\n",
              "  }\n",
              "\n",
              "  .colab-df-quickchart:hover {\n",
              "    background-color: #E2EBFA;\n",
              "    box-shadow: 0px 1px 2px rgba(60, 64, 67, 0.3), 0px 1px 3px 1px rgba(60, 64, 67, 0.15);\n",
              "    fill: #174EA6;\n",
              "  }\n",
              "\n",
              "  [theme=dark] .colab-df-quickchart {\n",
              "    background-color: #3B4455;\n",
              "    fill: #D2E3FC;\n",
              "  }\n",
              "\n",
              "  [theme=dark] .colab-df-quickchart:hover {\n",
              "    background-color: #434B5C;\n",
              "    box-shadow: 0px 1px 3px 1px rgba(0, 0, 0, 0.15);\n",
              "    filter: drop-shadow(0px 1px 2px rgba(0, 0, 0, 0.3));\n",
              "    fill: #FFFFFF;\n",
              "  }\n",
              "</style>\n",
              "\n",
              "    <script>\n",
              "      async function quickchart(key) {\n",
              "        const containerElement = document.querySelector('#' + key);\n",
              "        const charts = await google.colab.kernel.invokeFunction(\n",
              "            'suggestCharts', [key], {});\n",
              "      }\n",
              "    </script>\n",
              "\n",
              "      <script>\n",
              "\n",
              "function displayQuickchartButton(domScope) {\n",
              "  let quickchartButtonEl =\n",
              "    domScope.querySelector('#df-8821a5a9-ea76-44c0-8bc6-5d0e12af7302 button.colab-df-quickchart');\n",
              "  quickchartButtonEl.style.display =\n",
              "    google.colab.kernel.accessAllowed ? 'block' : 'none';\n",
              "}\n",
              "\n",
              "        displayQuickchartButton(document);\n",
              "      </script>\n",
              "      <style>\n",
              "    .colab-df-container {\n",
              "      display:flex;\n",
              "      flex-wrap:wrap;\n",
              "      gap: 12px;\n",
              "    }\n",
              "\n",
              "    .colab-df-convert {\n",
              "      background-color: #E8F0FE;\n",
              "      border: none;\n",
              "      border-radius: 50%;\n",
              "      cursor: pointer;\n",
              "      display: none;\n",
              "      fill: #1967D2;\n",
              "      height: 32px;\n",
              "      padding: 0 0 0 0;\n",
              "      width: 32px;\n",
              "    }\n",
              "\n",
              "    .colab-df-convert:hover {\n",
              "      background-color: #E2EBFA;\n",
              "      box-shadow: 0px 1px 2px rgba(60, 64, 67, 0.3), 0px 1px 3px 1px rgba(60, 64, 67, 0.15);\n",
              "      fill: #174EA6;\n",
              "    }\n",
              "\n",
              "    [theme=dark] .colab-df-convert {\n",
              "      background-color: #3B4455;\n",
              "      fill: #D2E3FC;\n",
              "    }\n",
              "\n",
              "    [theme=dark] .colab-df-convert:hover {\n",
              "      background-color: #434B5C;\n",
              "      box-shadow: 0px 1px 3px 1px rgba(0, 0, 0, 0.15);\n",
              "      filter: drop-shadow(0px 1px 2px rgba(0, 0, 0, 0.3));\n",
              "      fill: #FFFFFF;\n",
              "    }\n",
              "  </style>\n",
              "\n",
              "      <script>\n",
              "        const buttonEl =\n",
              "          document.querySelector('#df-23edca58-e2f6-4e6e-bfc8-88e12ffc7908 button.colab-df-convert');\n",
              "        buttonEl.style.display =\n",
              "          google.colab.kernel.accessAllowed ? 'block' : 'none';\n",
              "\n",
              "        async function convertToInteractive(key) {\n",
              "          const element = document.querySelector('#df-23edca58-e2f6-4e6e-bfc8-88e12ffc7908');\n",
              "          const dataTable =\n",
              "            await google.colab.kernel.invokeFunction('convertToInteractive',\n",
              "                                                     [key], {});\n",
              "          if (!dataTable) return;\n",
              "\n",
              "          const docLinkHtml = 'Like what you see? Visit the ' +\n",
              "            '<a target=\"_blank\" href=https://colab.research.google.com/notebooks/data_table.ipynb>data table notebook</a>'\n",
              "            + ' to learn more about interactive tables.';\n",
              "          element.innerHTML = '';\n",
              "          dataTable['output_type'] = 'display_data';\n",
              "          await google.colab.output.renderOutput(dataTable, element);\n",
              "          const docLink = document.createElement('div');\n",
              "          docLink.innerHTML = docLinkHtml;\n",
              "          element.appendChild(docLink);\n",
              "        }\n",
              "      </script>\n",
              "    </div>\n",
              "  </div>\n"
            ],
            "text/plain": [
              "  unique_identifier native word  english word     source     score  \\\n",
              "0         asm134587  বাগানাপাৰা    baganapara  IndicCorp -0.041089   \n",
              "1          asm93075      নুচুলে        nusule  IndicCorp -0.123643   \n",
              "2         asm108867  চন্দ্ৰিকাই     sondrikai  IndicCorp -0.138856   \n",
              "3         asm173819      ছিঙিলে       singile  IndicCorp -0.171640   \n",
              "4          asm97196    বলাৰসকলক  bolarxokolok  IndicCorp -0.016239   \n",
              "\n",
              "       target_ass decoder_target  \n",
              "0  \\tবাগানাপাৰা\\n   বাগানাপাৰা\\n  \n",
              "1      \\tনুচুলে\\n       নুচুলে\\n  \n",
              "2  \\tচন্দ্ৰিকাই\\n   চন্দ্ৰিকাই\\n  \n",
              "3      \\tছিঙিলে\\n       ছিঙিলে\\n  \n",
              "4    \\tবলাৰসকলক\\n     বলাৰসকলক\\n  "
            ]
          },
          "execution_count": 15,
          "metadata": {},
          "output_type": "execute_result"
        }
      ],
      "source": [
        " #adds a new column named 'decoder_target' to the DataFrame df_train. The values in this new column are derived from the values in the 'native word' column.\n",
        "df_train['decoder_target'] = df_train['native word'].progress_apply(add_end)\n",
        "df_train.head()\n"
      ],
      "id": "11ccb74c"
    },
    {
      "cell_type": "code",
      "execution_count": null,
      "metadata": {
        "id": "3112327d"
      },
      "outputs": [],
      "source": [
        "def tokenize(lang):\n",
        "# Create tokenizer\n",
        "    #(filters)means that all characters in the input text will be considered for tokenization,(char_lvl)each character will be treated as a separate token.\n",
        "    tokenizer = Tokenizer(filters='',char_level=True)\n",
        "    # Fit texts\n",
        "     #creates the vocabulary based on the characters present in the corpus.\n",
        "    tokenizer.fit_on_texts(lang)\n",
        "    word_index = tokenizer.word_index\n",
        "    return tokenizer,word_index"
      ],
      "id": "3112327d"
    },
    {
      "cell_type": "code",
      "execution_count": null,
      "metadata": {
        "colab": {
          "base_uri": "https://localhost:8080/"
        },
        "id": "25afd5f7",
        "outputId": "fb0e07e1-9a1c-454f-987e-41c1ddd42cdb"
      },
      "outputs": [
        {
          "name": "stdout",
          "output_type": "stream",
          "text": [
            "{'o': 1, 'a': 2, 'r': 3, 'i': 4, 't': 5, 'n': 6, 'u': 7, 'h': 8, 'k': 9, 'e': 10, 'b': 11, 'l': 12, 'm': 13, 'd': 14, 's': 15, 'p': 16, 'x': 17, 'g': 18, 'j': 19, 'y': 20, 'w': 21, 'c': 22, 'f': 23, 'v': 24, 'z': 25, 'q': 26}\n",
            "No.of unique input tokens: 26\n"
          ]
        }
      ],
      "source": [
        "# Tokenize words\n",
        "roman_words = df_train['english word']\n",
        "ass_words = df_train['target_ass']\n",
        "\n",
        "roman_tokenizer, roman_tokens = tokenize(roman_words)\n",
        "ass_tokenizer, ass_tokens = tokenize(ass_words)\n",
        "\n",
        "\n",
        "print(roman_tokens)\n",
        "\n",
        "print(\"No.of unique input tokens:\", len(roman_tokens))\n"
      ],
      "id": "25afd5f7"
    },
    {
      "cell_type": "code",
      "execution_count": null,
      "metadata": {
        "colab": {
          "base_uri": "https://localhost:8080/",
          "height": 36
        },
        "id": "S7H0FwASMgnN",
        "outputId": "fe9d3767-de7a-4f2b-efcc-e44f8dc9a67f"
      },
      "outputs": [
        {
          "data": {
            "application/vnd.google.colaboratory.intrinsic+json": {
              "type": "string"
            },
            "text/plain": [
              "'pordakhon'"
            ]
          },
          "execution_count": 18,
          "metadata": {},
          "output_type": "execute_result"
        }
      ],
      "source": [
        "roman_words[15]"
      ],
      "id": "S7H0FwASMgnN"
    },
    {
      "cell_type": "code",
      "execution_count": null,
      "metadata": {
        "colab": {
          "base_uri": "https://localhost:8080/"
        },
        "id": "c40bf9bc",
        "outputId": "5c89e866-403c-460d-c238-390fae6bdea0"
      },
      "outputs": [
        {
          "name": "stdout",
          "output_type": "stream",
          "text": [
            "{'\\t': 1, '\\n': 2, 'া': 3, 'ৰ': 4, '্': 5, 'ি': 6, 'ক': 7, 'ে': 8, 'ন': 9, 'ত': 10, 'ল': 11, 'ব': 12, 'ম': 13, 'প': 14, 'স': 15, 'ো': 16, 'ু': 17, 'দ': 18, 'ী': 19, 'হ': 20, 'ট': 21, 'জ': 22, 'গ': 23, 'ই': 24, 'চ': 25, 'য': 26, 'ৱ': 27, 'শ': 28, 'র': 29, 'ভ': 30, 'ণ': 31, 'খ': 32, 'ষ': 33, 'ধ': 34, 'ৈ': 35, 'ছ': 36, 'ং': 37, 'থ': 38, 'অ': 39, 'ড': 40, 'আ': 41, 'ূ': 42, 'ও': 43, 'ফ': 44, 'উ': 45, 'এ': 46, '়': 47, 'ৃ': 48, 'ঁ': 49, 'ঘ': 50, 'ঞ': 51, 'ঠ': 52, 'ঙ': 53, 'ৌ': 54, 'ৎ': 55, 'ঢ': 56, 'ঃ': 57, 'ঝ': 58, 'ঐ': 59, 'ঔ': 60, 'ঈ': 61, 'ঋ': 62, 'ঊ': 63}\n",
            "No.of unique output tokens: 63\n"
          ]
        }
      ],
      "source": [
        "print(ass_tokens )\n",
        "print(\"No.of unique output tokens:\", len(ass_tokens))\n"
      ],
      "id": "c40bf9bc"
    },
    {
      "cell_type": "code",
      "execution_count": null,
      "metadata": {
        "colab": {
          "base_uri": "https://localhost:8080/"
        },
        "id": "6bf77492",
        "outputId": "8a7131c3-6e51-4231-a3bd-461a02b97182"
      },
      "outputs": [
        {
          "data": {
            "text/plain": [
              "(27, 64)"
            ]
          },
          "execution_count": 20,
          "metadata": {},
          "output_type": "execute_result"
        }
      ],
      "source": [
        "# vocab size (no. of unique characters for each script)\n",
        "\n",
        "roman_vocab = len(roman_tokens)+1\n",
        "ass_vocab = len(ass_tokens)+1\n",
        "roman_vocab,ass_vocab"
      ],
      "id": "6bf77492"
    },
    {
      "cell_type": "code",
      "execution_count": null,
      "metadata": {
        "colab": {
          "base_uri": "https://localhost:8080/"
        },
        "id": "3e36dba2",
        "outputId": "2d5e2dca-cd99-4472-e016-a0b292e2d4cf"
      },
      "outputs": [
        {
          "data": {
            "text/plain": [
              "('intaki', '\\tইন্টাকি\\n')"
            ]
          },
          "execution_count": 21,
          "metadata": {},
          "output_type": "execute_result"
        }
      ],
      "source": [
        "roman_words[45],ass_words[45]"
      ],
      "id": "3e36dba2"
    },
    {
      "cell_type": "code",
      "execution_count": null,
      "metadata": {
        "id": "11a64736"
      },
      "outputs": [],
      "source": [
        "# convert words to int sequence\n",
        "\n",
        "roman_words_in_ids = roman_tokenizer.texts_to_sequences(roman_words)\n",
        "ass_words_in_ids = ass_tokenizer.texts_to_sequences(ass_words)"
      ],
      "id": "11a64736"
    },
    {
      "cell_type": "code",
      "execution_count": null,
      "metadata": {
        "colab": {
          "base_uri": "https://localhost:8080/"
        },
        "id": "fSagRKOeMDur",
        "outputId": "4673145c-b06d-4864-cedb-a615ff52ce32"
      },
      "outputs": [
        {
          "data": {
            "text/plain": [
              "([4, 6, 5, 2, 9, 4], [1, 24, 9, 5, 21, 3, 7, 6, 2])"
            ]
          },
          "execution_count": 23,
          "metadata": {},
          "output_type": "execute_result"
        }
      ],
      "source": [
        "roman_words_in_ids[45],ass_words_in_ids[45]"
      ],
      "id": "fSagRKOeMDur"
    },
    {
      "cell_type": "code",
      "execution_count": null,
      "metadata": {
        "colab": {
          "base_uri": "https://localhost:8080/"
        },
        "id": "cXpBW5VBLtvG",
        "outputId": "2b2dc770-c687-4521-fa35-67bdeb692411"
      },
      "outputs": [
        {
          "data": {
            "text/plain": [
              "[11, 1, 8, 4, 8, 6, 4, 3, 4, 9, 8, 20, 1, 9]"
            ]
          },
          "execution_count": 24,
          "metadata": {},
          "output_type": "execute_result"
        }
      ],
      "source": [
        "roman_words_in_ids[5]"
      ],
      "id": "cXpBW5VBLtvG"
    },
    {
      "cell_type": "code",
      "execution_count": null,
      "metadata": {
        "colab": {
          "base_uri": "https://localhost:8080/",
          "height": 36
        },
        "id": "8T95KPuTLysE",
        "outputId": "339c3794-2c4e-44c9-b463-e81c24f393ff"
      },
      "outputs": [
        {
          "data": {
            "application/vnd.google.colaboratory.intrinsic+json": {
              "type": "string"
            },
            "text/plain": [
              "'bohihnirikhyok'"
            ]
          },
          "execution_count": 25,
          "metadata": {},
          "output_type": "execute_result"
        }
      ],
      "source": [
        "roman_words[5]"
      ],
      "id": "8T95KPuTLysE"
    },
    {
      "cell_type": "code",
      "execution_count": null,
      "metadata": {
        "colab": {
          "base_uri": "https://localhost:8080/"
        },
        "id": "c0ec1ef0",
        "outputId": "ad841831-d005-4fd3-db17-49ca8eb87244"
      },
      "outputs": [
        {
          "data": {
            "text/plain": [
              "[1, 12, 20, 6, 57, 9, 6, 4, 19, 7, 5, 33, 7, 2]"
            ]
          },
          "execution_count": 26,
          "metadata": {},
          "output_type": "execute_result"
        }
      ],
      "source": [
        "ass_words_in_ids[5]\n"
      ],
      "id": "c0ec1ef0"
    },
    {
      "cell_type": "code",
      "execution_count": null,
      "metadata": {
        "id": "066db9fc"
      },
      "outputs": [],
      "source": [
        "# y_train\n",
        "# only with end token\n",
        "\n",
        "label_words = df_train[\"decoder_target\"]\n",
        "print(label_words[6])\n",
        "#convert the text sequences in label_words into sequences of integers\n",
        "y_train = ass_tokenizer.texts_to_sequences(label_words)\n",
        "y_train"
      ],
      "id": "066db9fc"
    },
    {
      "cell_type": "code",
      "execution_count": null,
      "metadata": {
        "colab": {
          "base_uri": "https://localhost:8080/"
        },
        "id": "aw8gVFMlK-de",
        "outputId": "010753dd-1b18-447d-e3ae-add01bbb0ba1"
      },
      "outputs": [
        {
          "data": {
            "text/plain": [
              "[44, 8, 9, 15, 7, 11, 8, 2]"
            ]
          },
          "execution_count": 28,
          "metadata": {},
          "output_type": "execute_result"
        }
      ],
      "source": [
        "y_train[9]"
      ],
      "id": "aw8gVFMlK-de"
    },
    {
      "cell_type": "code",
      "execution_count": null,
      "metadata": {
        "colab": {
          "base_uri": "https://localhost:8080/"
        },
        "id": "MNwA6y8LAkYK",
        "outputId": "ce96b2b3-1fd5-42c2-81db-ef4d7fa360d4"
      },
      "outputs": [
        {
          "name": "stdout",
          "output_type": "stream",
          "text": [
            "ফেনসকলে\n",
            "\n"
          ]
        }
      ],
      "source": [
        "print(label_words[9])"
      ],
      "id": "MNwA6y8LAkYK"
    },
    {
      "cell_type": "code",
      "execution_count": null,
      "metadata": {
        "colab": {
          "base_uri": "https://localhost:8080/"
        },
        "id": "aa83f7dd",
        "outputId": "444d65b7-b333-4b70-ceea-2f33b0fe7538"
      },
      "outputs": [
        {
          "data": {
            "text/plain": [
              "(23, 21)"
            ]
          },
          "execution_count": 30,
          "metadata": {},
          "output_type": "execute_result"
        }
      ],
      "source": [
        "# max sequence length\n",
        "\n",
        "max_encoder_seq_length_roman = df_train['english word'].str.len().max()\n",
        "max_decoder_seq_length_ass = df_train['target_ass'].str.len().max()\n",
        "\n",
        "max_encoder_seq_length_roman, max_decoder_seq_length_ass"
      ],
      "id": "aa83f7dd"
    },
    {
      "cell_type": "code",
      "execution_count": null,
      "metadata": {
        "colab": {
          "base_uri": "https://localhost:8080/"
        },
        "id": "9aca2bd3",
        "outputId": "a90c17db-474e-4556-efc9-c5431fb2628b"
      },
      "outputs": [
        {
          "name": "stdout",
          "output_type": "stream",
          "text": [
            "[15 22  4 10  6 22 10 19 10  0  0  0  0  0  0  0  0  0  0  0  0  0  0] 23\n",
            "[ 1 25  3 24  9  5 15  8 22  8  2  0  0  0  0  0  0  0  0  0  0] 21\n",
            "[25  3 24  9  5 15  8 22  8  2  0  0  0  0  0  0  0  0  0  0  0] 21\n"
          ]
        }
      ],
      "source": [
        "def post_padding(data_in_int_seq, max_seq_len):\n",
        "  return pad_sequences(data_in_int_seq, max_seq_len, padding = \"post\")\n",
        "# padding\n",
        "\n",
        "roman_padded = post_padding(roman_words_in_ids, max_encoder_seq_length_roman)\n",
        "ass_padded = post_padding(ass_words_in_ids, max_decoder_seq_length_ass)\n",
        "y_train_padded = post_padding(y_train, max_decoder_seq_length_ass)\n",
        "\n",
        "print(roman_padded[16], len(roman_padded[16]))\n",
        "print(ass_padded[16], len(ass_padded[16]))\n",
        "print(y_train_padded[16],len(y_train_padded[16]))"
      ],
      "id": "9aca2bd3"
    },
    {
      "cell_type": "code",
      "execution_count": null,
      "metadata": {
        "id": "897947be"
      },
      "outputs": [],
      "source": [
        "latent_dim = 64\n",
        "emb_dim = 100"
      ],
      "id": "897947be"
    },
    {
      "cell_type": "code",
      "execution_count": null,
      "metadata": {
        "id": "20b7ed9f"
      },
      "outputs": [],
      "source": [
        "# Define the encoder model\n",
        "encoder_inputs = Input(shape=(max_encoder_seq_length_roman,), name=\"encoder_input\")\n",
        "emb_encoder = Embedding(roman_vocab, emb_dim, mask_zero=True, name=\"encoder_embedding\")(encoder_inputs)\n",
        "#encoder_lstm = Bidirectional(LSTM(latent_dim, return_sequences=False,return_state=True, name=\"encoder_bilstm_1\"))(emb_encoder)\n",
        "encoder_outputs, forward_h, forward_c, backward_h, backward_c = Bidirectional(LSTM(latent_dim, return_state=True, return_sequences=False),name=\"BiLSTM\",merge_mode=\"mul\")(emb_encoder)\n",
        "#encoder_lstm_final = Bidirectional(LSTM(latent_dim, return_state=True, name=\"encoder_bilstm_2\"))(encoder_lstm)\n",
        "#encoder_states = [encoder_lstm_final[0], encoder_lstm_final[1]]"
      ],
      "id": "20b7ed9f"
    },
    {
      "cell_type": "code",
      "execution_count": null,
      "metadata": {
        "colab": {
          "base_uri": "https://localhost:8080/"
        },
        "id": "ozwJwSdgCPJD",
        "outputId": "1fd233d9-1c93-498f-d09d-2adf67183ab3"
      },
      "outputs": [
        {
          "data": {
            "text/plain": [
              "(<KerasTensor: shape=(None, 128) dtype=float32 (created by layer 'concat_h')>,\n",
              " <KerasTensor: shape=(None, 128) dtype=float32 (created by layer 'concat_c')>)"
            ]
          },
          "execution_count": 36,
          "metadata": {},
          "output_type": "execute_result"
        }
      ],
      "source": [
        "# concatenate along the last dimension\n",
        "encoder_h = Concatenate(axis=-1,name=\"concat_h\")([forward_h, backward_h])\n",
        "encoder_c = Concatenate(axis=-1,name=\"concat_c\")([forward_c, backward_c])\n",
        "encoder_h, encoder_c\n"
      ],
      "id": "ozwJwSdgCPJD"
    },
    {
      "cell_type": "code",
      "execution_count": null,
      "metadata": {
        "colab": {
          "base_uri": "https://localhost:8080/"
        },
        "id": "bRXm0Tm3ENxS",
        "outputId": "c56ade13-e8f3-4bd9-af71-fc004d873d34"
      },
      "outputs": [
        {
          "data": {
            "text/plain": [
              "[<KerasTensor: shape=(None, 128) dtype=float32 (created by layer 'concat_h')>,\n",
              " <KerasTensor: shape=(None, 128) dtype=float32 (created by layer 'concat_c')>]"
            ]
          },
          "execution_count": 37,
          "metadata": {},
          "output_type": "execute_result"
        }
      ],
      "source": [
        "encoder_states = [encoder_h,encoder_c]\n",
        "encoder_states"
      ],
      "id": "bRXm0Tm3ENxS"
    },
    {
      "cell_type": "code",
      "execution_count": null,
      "metadata": {
        "id": "UJmavU_aET2L"
      },
      "outputs": [],
      "source": [
        "# decoder with two lstm layers\n",
        "\n",
        "decoder_inputs = keras.Input(shape=(None,),name=\"decoder_input\")\n",
        "\n",
        "decoder_emb = Embedding(ass_vocab, emb_dim, mask_zero=True, name=\"decoder_embedding\")(decoder_inputs)\n",
        "d_lstm_out,d_h,d_c = LSTM(128, return_state=True, return_sequences=True, name=\"decoder_lstm_1\")(decoder_emb, initial_state=encoder_states)\n",
        "#d_lstm_out1 = LSTM(latent_dim, return_state=False, return_sequences=True,name=\"decoder_lstm_2\")(d_lstm_out, initial_state=context_second)\n",
        "decoder_dense = keras.layers.Dense(ass_vocab, activation=\"softmax\")\n",
        "\n",
        "decoder_outputs = decoder_dense(d_lstm_out)"
      ],
      "id": "UJmavU_aET2L"
    },
    {
      "cell_type": "code",
      "execution_count": null,
      "metadata": {
        "colab": {
          "base_uri": "https://localhost:8080/"
        },
        "id": "yXqiKG_9EeVH",
        "outputId": "afc4895e-34a9-4b30-92c2-f18ba8e6a268"
      },
      "outputs": [
        {
          "name": "stdout",
          "output_type": "stream",
          "text": [
            "Model: \"model\"\n",
            "__________________________________________________________________________________________________\n",
            " Layer (type)                   Output Shape         Param #     Connected to                     \n",
            "==================================================================================================\n",
            " encoder_input (InputLayer)     [(None, 23)]         0           []                               \n",
            "                                                                                                  \n",
            " encoder_embedding (Embedding)  (None, 23, 100)      2700        ['encoder_input[0][0]']          \n",
            "                                                                                                  \n",
            " decoder_input (InputLayer)     [(None, None)]       0           []                               \n",
            "                                                                                                  \n",
            " BiLSTM (Bidirectional)         [(None, 64),         84480       ['encoder_embedding[0][0]']      \n",
            "                                 (None, 64),                                                      \n",
            "                                 (None, 64),                                                      \n",
            "                                 (None, 64),                                                      \n",
            "                                 (None, 64)]                                                      \n",
            "                                                                                                  \n",
            " decoder_embedding (Embedding)  (None, None, 100)    6400        ['decoder_input[0][0]']          \n",
            "                                                                                                  \n",
            " concat_h (Concatenate)         (None, 128)          0           ['BiLSTM[0][1]',                 \n",
            "                                                                  'BiLSTM[0][3]']                 \n",
            "                                                                                                  \n",
            " concat_c (Concatenate)         (None, 128)          0           ['BiLSTM[0][2]',                 \n",
            "                                                                  'BiLSTM[0][4]']                 \n",
            "                                                                                                  \n",
            " decoder_lstm_1 (LSTM)          [(None, None, 128),  117248      ['decoder_embedding[0][0]',      \n",
            "                                 (None, 128),                     'concat_h[0][0]',               \n",
            "                                 (None, 128)]                     'concat_c[0][0]']               \n",
            "                                                                                                  \n",
            " dense (Dense)                  (None, None, 64)     8256        ['decoder_lstm_1[0][0]']         \n",
            "                                                                                                  \n",
            "==================================================================================================\n",
            "Total params: 219,084\n",
            "Trainable params: 219,084\n",
            "Non-trainable params: 0\n",
            "__________________________________________________________________________________________________\n"
          ]
        }
      ],
      "source": [
        "model = keras.Model([encoder_inputs, decoder_inputs], decoder_outputs)\n",
        "loss = tf.keras.losses.SparseCategoricalCrossentropy()\n",
        "optimizer = tf.keras.optimizers.RMSprop(learning_rate=0.01, rho=0.9)\n",
        "\n",
        "model.compile(optimizer=optimizer, loss=loss, metrics=[\"accuracy\"])\n",
        "model.summary()"
      ],
      "id": "yXqiKG_9EeVH"
    },
    {
      "cell_type": "code",
      "execution_count": null,
      "metadata": {
        "colab": {
          "base_uri": "https://localhost:8080/"
        },
        "id": "kHhq3_fRF9lW",
        "outputId": "98577948-f987-4ce1-90e3-ae82043f1e8c"
      },
      "outputs": [
        {
          "data": {
            "text/plain": [
              "array([4, 6, 5, 2, 9, 4, 0, 0, 0, 0, 0, 0, 0, 0, 0, 0, 0, 0, 0, 0, 0, 0,\n",
              "       0], dtype=int32)"
            ]
          },
          "execution_count": 40,
          "metadata": {},
          "output_type": "execute_result"
        }
      ],
      "source": [
        "roman_padded[45]"
      ],
      "id": "kHhq3_fRF9lW"
    },
    {
      "cell_type": "code",
      "execution_count": null,
      "metadata": {
        "colab": {
          "base_uri": "https://localhost:8080/",
          "height": 36
        },
        "id": "LNmj_PpHJCIl",
        "outputId": "2ef3ca06-06d7-4087-be70-5c11651077e5"
      },
      "outputs": [
        {
          "data": {
            "application/vnd.google.colaboratory.intrinsic+json": {
              "type": "string"
            },
            "text/plain": [
              "'intaki'"
            ]
          },
          "execution_count": 41,
          "metadata": {},
          "output_type": "execute_result"
        }
      ],
      "source": [
        "roman_words[45]"
      ],
      "id": "LNmj_PpHJCIl"
    },
    {
      "cell_type": "code",
      "execution_count": null,
      "metadata": {
        "colab": {
          "base_uri": "https://localhost:8080/"
        },
        "id": "AVYAkf78GM-p",
        "outputId": "c5302e97-e4c1-4105-e0dc-b9e54f87a30a"
      },
      "outputs": [
        {
          "data": {
            "text/plain": [
              "array([ 1, 24,  9,  5, 21,  3,  7,  6,  2,  0,  0,  0,  0,  0,  0,  0,  0,\n",
              "        0,  0,  0,  0], dtype=int32)"
            ]
          },
          "execution_count": 42,
          "metadata": {},
          "output_type": "execute_result"
        }
      ],
      "source": [
        "\n",
        "ass_padded[45]"
      ],
      "id": "AVYAkf78GM-p"
    },
    {
      "cell_type": "code",
      "execution_count": null,
      "metadata": {
        "colab": {
          "base_uri": "https://localhost:8080/"
        },
        "id": "-HM_lFvFGSn0",
        "outputId": "15fe406d-1536-4a5a-fe4f-e3fcbcabac03"
      },
      "outputs": [
        {
          "data": {
            "text/plain": [
              "array([14,  5,  4, 27, 51,  5, 25,  7, 21, 16,  2,  0,  0,  0,  0,  0,  0,\n",
              "        0,  0,  0,  0], dtype=int32)"
            ]
          },
          "execution_count": 43,
          "metadata": {},
          "output_type": "execute_result"
        }
      ],
      "source": [
        "y_train_padded[53587]"
      ],
      "id": "-HM_lFvFGSn0"
    },
    {
      "cell_type": "code",
      "execution_count": null,
      "metadata": {
        "colab": {
          "background_save": true,
          "base_uri": "https://localhost:8080/"
        },
        "id": "Qr8YhIgCEtTO",
        "outputId": "b82e1557-f1dd-472a-e281-505171efd7d7"
      },
      "outputs": [
        {
          "name": "stdout",
          "output_type": "stream",
          "text": [
            "Epoch 1/50\n",
            "670/670 [==============================] - 123s 183ms/step - loss: 0.1318 - accuracy: 0.9514 - val_loss: 0.2524 - val_accuracy: 0.9241\n",
            "Epoch 2/50\n",
            "670/670 [==============================] - 121s 181ms/step - loss: 0.1312 - accuracy: 0.9517 - val_loss: 0.2561 - val_accuracy: 0.9226\n",
            "Epoch 3/50\n",
            "670/670 [==============================] - 120s 179ms/step - loss: 0.1312 - accuracy: 0.9516 - val_loss: 0.2574 - val_accuracy: 0.9230\n",
            "Epoch 4/50\n",
            "670/670 [==============================] - 122s 182ms/step - loss: 0.1312 - accuracy: 0.9515 - val_loss: 0.2550 - val_accuracy: 0.9238\n",
            "Epoch 5/50\n",
            "670/670 [==============================] - 120s 180ms/step - loss: 0.1307 - accuracy: 0.9516 - val_loss: 0.2559 - val_accuracy: 0.9229\n",
            "Epoch 6/50\n",
            "670/670 [==============================] - 121s 181ms/step - loss: 0.1308 - accuracy: 0.9518 - val_loss: 0.2566 - val_accuracy: 0.9238\n",
            "Epoch 7/50\n",
            "670/670 [==============================] - 122s 182ms/step - loss: 0.1328 - accuracy: 0.9512 - val_loss: 0.2518 - val_accuracy: 0.9249\n",
            "Epoch 8/50\n",
            "670/670 [==============================] - 121s 181ms/step - loss: 0.1350 - accuracy: 0.9503 - val_loss: 0.2577 - val_accuracy: 0.9230\n",
            "Epoch 9/50\n",
            "670/670 [==============================] - 120s 180ms/step - loss: 0.1328 - accuracy: 0.9513 - val_loss: 0.2608 - val_accuracy: 0.9227\n",
            "Epoch 10/50\n",
            "670/670 [==============================] - 121s 181ms/step - loss: 0.1352 - accuracy: 0.9509 - val_loss: 0.2567 - val_accuracy: 0.9233\n",
            "Epoch 11/50\n",
            "670/670 [==============================] - 121s 181ms/step - loss: 0.1351 - accuracy: 0.9504 - val_loss: 0.2592 - val_accuracy: 0.9236\n",
            "Epoch 12/50\n",
            "670/670 [==============================] - 122s 182ms/step - loss: 0.1349 - accuracy: 0.9504 - val_loss: 0.2629 - val_accuracy: 0.9207\n",
            "Epoch 13/50\n",
            "670/670 [==============================] - 120s 180ms/step - loss: 0.1353 - accuracy: 0.9503 - val_loss: 0.2531 - val_accuracy: 0.9243\n",
            "Epoch 14/50\n",
            "670/670 [==============================] - 120s 180ms/step - loss: 0.1356 - accuracy: 0.9501 - val_loss: 0.2591 - val_accuracy: 0.9241\n",
            "Epoch 15/50\n",
            "670/670 [==============================] - 121s 180ms/step - loss: 0.1375 - accuracy: 0.9496 - val_loss: 0.2574 - val_accuracy: 0.9237\n",
            "Epoch 16/50\n",
            "670/670 [==============================] - 118s 177ms/step - loss: 0.1378 - accuracy: 0.9496 - val_loss: 0.2585 - val_accuracy: 0.9221\n",
            "Epoch 17/50\n",
            "670/670 [==============================] - 118s 175ms/step - loss: 0.1362 - accuracy: 0.9503 - val_loss: 0.2585 - val_accuracy: 0.9243\n",
            "Epoch 18/50\n",
            "670/670 [==============================] - 123s 184ms/step - loss: 0.1375 - accuracy: 0.9497 - val_loss: 0.2597 - val_accuracy: 0.9233\n",
            "Epoch 19/50\n",
            "670/670 [==============================] - 125s 186ms/step - loss: 0.1341 - accuracy: 0.9509 - val_loss: 0.2555 - val_accuracy: 0.9244\n",
            "Epoch 20/50\n",
            "670/670 [==============================] - 120s 179ms/step - loss: 0.1366 - accuracy: 0.9499 - val_loss: 0.2635 - val_accuracy: 0.9213\n",
            "Epoch 21/50\n",
            "670/670 [==============================] - 121s 180ms/step - loss: 0.1370 - accuracy: 0.9497 - val_loss: 0.2541 - val_accuracy: 0.9229\n",
            "Epoch 22/50\n",
            "670/670 [==============================] - 122s 182ms/step - loss: 0.1360 - accuracy: 0.9500 - val_loss: 0.2580 - val_accuracy: 0.9212\n",
            "Epoch 23/50\n",
            "670/670 [==============================] - 120s 180ms/step - loss: 0.1365 - accuracy: 0.9496 - val_loss: 0.2500 - val_accuracy: 0.9245\n",
            "Epoch 24/50\n",
            "670/670 [==============================] - 121s 180ms/step - loss: 0.1365 - accuracy: 0.9501 - val_loss: 0.2617 - val_accuracy: 0.9215\n",
            "Epoch 25/50\n",
            "670/670 [==============================] - 121s 180ms/step - loss: 0.1398 - accuracy: 0.9489 - val_loss: 0.2580 - val_accuracy: 0.9212\n",
            "Epoch 26/50\n",
            "670/670 [==============================] - 120s 180ms/step - loss: 0.1377 - accuracy: 0.9497 - val_loss: 0.2604 - val_accuracy: 0.9229\n",
            "Epoch 27/50\n",
            "670/670 [==============================] - 121s 180ms/step - loss: 0.1395 - accuracy: 0.9489 - val_loss: 0.2570 - val_accuracy: 0.9216\n",
            "Epoch 28/50\n",
            "670/670 [==============================] - 121s 181ms/step - loss: 0.1402 - accuracy: 0.9490 - val_loss: 0.2591 - val_accuracy: 0.9215\n",
            "Epoch 29/50\n",
            "670/670 [==============================] - 122s 181ms/step - loss: 0.1389 - accuracy: 0.9494 - val_loss: 0.2530 - val_accuracy: 0.9242\n",
            "Epoch 30/50\n",
            "670/670 [==============================] - 121s 180ms/step - loss: 0.1381 - accuracy: 0.9490 - val_loss: 0.2632 - val_accuracy: 0.9219\n",
            "Epoch 31/50\n",
            "670/670 [==============================] - 122s 182ms/step - loss: 0.1385 - accuracy: 0.9495 - val_loss: 0.2642 - val_accuracy: 0.9221\n",
            "Epoch 32/50\n",
            "670/670 [==============================] - 124s 185ms/step - loss: 0.1392 - accuracy: 0.9491 - val_loss: 0.2580 - val_accuracy: 0.9237\n",
            "Epoch 33/50\n",
            "670/670 [==============================] - 121s 181ms/step - loss: 0.1394 - accuracy: 0.9493 - val_loss: 0.2636 - val_accuracy: 0.9208\n",
            "Epoch 34/50\n",
            "670/670 [==============================] - 124s 186ms/step - loss: 0.1400 - accuracy: 0.9488 - val_loss: 0.2610 - val_accuracy: 0.9224\n",
            "Epoch 35/50\n",
            "670/670 [==============================] - 123s 183ms/step - loss: 0.1396 - accuracy: 0.9491 - val_loss: 0.2644 - val_accuracy: 0.9205\n",
            "Epoch 36/50\n",
            "670/670 [==============================] - 122s 182ms/step - loss: 0.1388 - accuracy: 0.9492 - val_loss: 0.2611 - val_accuracy: 0.9226\n",
            "Epoch 37/50\n",
            "670/670 [==============================] - 124s 185ms/step - loss: 0.1427 - accuracy: 0.9484 - val_loss: 0.2606 - val_accuracy: 0.9211\n",
            "Epoch 38/50\n",
            "670/670 [==============================] - 136s 202ms/step - loss: 0.1429 - accuracy: 0.9481 - val_loss: 0.2609 - val_accuracy: 0.9222\n",
            "Epoch 39/50\n",
            "670/670 [==============================] - 121s 181ms/step - loss: 0.1394 - accuracy: 0.9489 - val_loss: 0.2582 - val_accuracy: 0.9224\n",
            "Epoch 40/50\n",
            "670/670 [==============================] - 125s 187ms/step - loss: 0.1420 - accuracy: 0.9482 - val_loss: 0.2561 - val_accuracy: 0.9220\n",
            "Epoch 41/50\n",
            "670/670 [==============================] - 125s 186ms/step - loss: 0.1396 - accuracy: 0.9488 - val_loss: 0.2646 - val_accuracy: 0.9211\n",
            "Epoch 42/50\n",
            "670/670 [==============================] - 122s 182ms/step - loss: 0.1412 - accuracy: 0.9487 - val_loss: 0.2633 - val_accuracy: 0.9213\n",
            "Epoch 43/50\n",
            "670/670 [==============================] - 126s 188ms/step - loss: 0.1414 - accuracy: 0.9484 - val_loss: 0.2630 - val_accuracy: 0.9219\n",
            "Epoch 44/50\n",
            "670/670 [==============================] - 129s 193ms/step - loss: 0.1434 - accuracy: 0.9476 - val_loss: 0.2556 - val_accuracy: 0.9236\n",
            "Epoch 45/50\n",
            "670/670 [==============================] - 130s 195ms/step - loss: 0.1425 - accuracy: 0.9478 - val_loss: 0.2650 - val_accuracy: 0.9213\n",
            "Epoch 46/50\n",
            "670/670 [==============================] - 131s 196ms/step - loss: 0.1445 - accuracy: 0.9477 - val_loss: 0.2633 - val_accuracy: 0.9205\n",
            "Epoch 47/50\n",
            "670/670 [==============================] - 129s 193ms/step - loss: 0.1407 - accuracy: 0.9486 - val_loss: 0.2661 - val_accuracy: 0.9202\n",
            "Epoch 48/50\n",
            "670/670 [==============================] - 128s 190ms/step - loss: 0.1424 - accuracy: 0.9479 - val_loss: 0.2602 - val_accuracy: 0.9209\n",
            "Epoch 49/50\n",
            "670/670 [==============================] - 123s 184ms/step - loss: 0.1463 - accuracy: 0.9467 - val_loss: 0.2600 - val_accuracy: 0.9220\n",
            "Epoch 50/50\n",
            "670/670 [==============================] - 123s 184ms/step - loss: 0.1458 - accuracy: 0.9470 - val_loss: 0.2675 - val_accuracy: 0.9212\n"
          ]
        }
      ],
      "source": [
        "batch_size = 64\n",
        "epochs = 100\n",
        "\n",
        "\n",
        "model.fit(\n",
        "    [roman_padded, ass_padded],\n",
        "    y_train_padded,\n",
        "    batch_size=batch_size,\n",
        "    epochs=epochs,\n",
        "    validation_split=0.2,\n",
        ")\n",
        "model.save(\"/content/drive/MyDrive/internship/mt_bilstm_1l.h5\")"
      ],
      "id": "Qr8YhIgCEtTO"
    },
    {
      "cell_type": "code",
      "execution_count": null,
      "metadata": {
        "colab": {
          "background_save": true
        },
        "id": "U65em7_QGQ9K",
        "outputId": "99a9f675-b949-4dd0-c9f8-73e0153c4653"
      },
      "outputs": [
        {
          "name": "stdout",
          "output_type": "stream",
          "text": [
            "Model: \"model\"\n",
            "__________________________________________________________________________________________________\n",
            " Layer (type)                   Output Shape         Param #     Connected to                     \n",
            "==================================================================================================\n",
            " encoder_input (InputLayer)     [(None, 23)]         0           []                               \n",
            "                                                                                                  \n",
            " encoder_embedding (Embedding)  (None, 23, 100)      2700        ['encoder_input[0][0]']          \n",
            "                                                                                                  \n",
            " decoder_input (InputLayer)     [(None, None)]       0           []                               \n",
            "                                                                                                  \n",
            " BiLSTM (Bidirectional)         [(None, 64),         84480       ['encoder_embedding[0][0]']      \n",
            "                                 (None, 64),                                                      \n",
            "                                 (None, 64),                                                      \n",
            "                                 (None, 64),                                                      \n",
            "                                 (None, 64)]                                                      \n",
            "                                                                                                  \n",
            " decoder_embedding (Embedding)  (None, None, 100)    6400        ['decoder_input[0][0]']          \n",
            "                                                                                                  \n",
            " concat_h (Concatenate)         (None, 128)          0           ['BiLSTM[0][1]',                 \n",
            "                                                                  'BiLSTM[0][3]']                 \n",
            "                                                                                                  \n",
            " concat_c (Concatenate)         (None, 128)          0           ['BiLSTM[0][2]',                 \n",
            "                                                                  'BiLSTM[0][4]']                 \n",
            "                                                                                                  \n",
            " decoder_lstm_1 (LSTM)          [(None, None, 128),  117248      ['decoder_embedding[0][0]',      \n",
            "                                 (None, 128),                     'concat_h[0][0]',               \n",
            "                                 (None, 128)]                     'concat_c[0][0]']               \n",
            "                                                                                                  \n",
            " dense (Dense)                  (None, None, 64)     8256        ['decoder_lstm_1[0][0]']         \n",
            "                                                                                                  \n",
            "==================================================================================================\n",
            "Total params: 219,084\n",
            "Trainable params: 219,084\n",
            "Non-trainable params: 0\n",
            "__________________________________________________________________________________________________\n"
          ]
        }
      ],
      "source": [
        "#Load saved model\n",
        "saved_model = tf.keras.models.load_model('/content/drive/MyDrive/internship/mt_bilstm_1l.h5')\n",
        "saved_model.summary()"
      ],
      "id": "U65em7_QGQ9K"
    },
    {
      "cell_type": "code",
      "execution_count": null,
      "metadata": {
        "id": "ccJv6JCSTQwh"
      },
      "outputs": [],
      "source": [
        "inputs = saved_model.get_layer('encoder_input').output                    #Encoder input\n",
        "bi_lstm_out,f_h,f_c,b_h,b_c = saved_model.get_layer('BiLSTM').output   #Encoder LSTM output\n",
        "\n",
        "concate_h = saved_model.get_layer('concat_h').output\n",
        "concate_c = saved_model.get_layer('concat_c').output\n"
      ],
      "id": "ccJv6JCSTQwh"
    },
    {
      "cell_type": "code",
      "execution_count": null,
      "metadata": {
        "id": "1kSBojyqTmvv"
      },
      "outputs": [],
      "source": [
        "bi_lstm_out"
      ],
      "id": "1kSBojyqTmvv"
    },
    {
      "cell_type": "code",
      "execution_count": null,
      "metadata": {
        "colab": {
          "background_save": true
        },
        "id": "_JMMcDLATqYH",
        "outputId": "ba9fa886-c518-4440-bc89-348d229c45d9"
      },
      "outputs": [
        {
          "ename": "ValueError",
          "evalue": "ignored",
          "output_type": "error",
          "traceback": [
            "\u001b[0;31m---------------------------------------------------------------------------\u001b[0m",
            "\u001b[0;31mValueError\u001b[0m                                Traceback (most recent call last)",
            "\u001b[0;32m<ipython-input-52-4766f5128e66>\u001b[0m in \u001b[0;36m<cell line: 4>\u001b[0;34m()\u001b[0m\n\u001b[1;32m      2\u001b[0m \u001b[0membedding_layer\u001b[0m \u001b[0;34m=\u001b[0m \u001b[0msaved_model\u001b[0m\u001b[0;34m.\u001b[0m\u001b[0mget_layer\u001b[0m\u001b[0;34m(\u001b[0m\u001b[0;34m'decoder_embedding'\u001b[0m\u001b[0;34m)\u001b[0m      \u001b[0;31m#Decoder Embedding layer\u001b[0m\u001b[0;34m\u001b[0m\u001b[0;34m\u001b[0m\u001b[0m\n\u001b[1;32m      3\u001b[0m \u001b[0mdecoder_lstm1\u001b[0m \u001b[0;34m=\u001b[0m \u001b[0msaved_model\u001b[0m\u001b[0;34m.\u001b[0m\u001b[0mget_layer\u001b[0m\u001b[0;34m(\u001b[0m\u001b[0;34m'decoder_lstm_1'\u001b[0m\u001b[0;34m)\u001b[0m           \u001b[0;31m#Decoder LSTM layer\u001b[0m\u001b[0;34m\u001b[0m\u001b[0;34m\u001b[0m\u001b[0m\n\u001b[0;32m----> 4\u001b[0;31m \u001b[0mdense1\u001b[0m \u001b[0;34m=\u001b[0m \u001b[0msaved_model\u001b[0m\u001b[0;34m.\u001b[0m\u001b[0mget_layer\u001b[0m\u001b[0;34m(\u001b[0m\u001b[0;34m'dense_1'\u001b[0m\u001b[0;34m)\u001b[0m\u001b[0;34m\u001b[0m\u001b[0;34m\u001b[0m\u001b[0m\n\u001b[0m",
            "\u001b[0;32m/usr/local/lib/python3.10/dist-packages/keras/engine/training.py\u001b[0m in \u001b[0;36mget_layer\u001b[0;34m(self, name, index)\u001b[0m\n\u001b[1;32m   3288\u001b[0m                 \u001b[0;32mif\u001b[0m \u001b[0mlayer\u001b[0m\u001b[0;34m.\u001b[0m\u001b[0mname\u001b[0m \u001b[0;34m==\u001b[0m \u001b[0mname\u001b[0m\u001b[0;34m:\u001b[0m\u001b[0;34m\u001b[0m\u001b[0;34m\u001b[0m\u001b[0m\n\u001b[1;32m   3289\u001b[0m                     \u001b[0;32mreturn\u001b[0m \u001b[0mlayer\u001b[0m\u001b[0;34m\u001b[0m\u001b[0;34m\u001b[0m\u001b[0m\n\u001b[0;32m-> 3290\u001b[0;31m             raise ValueError(\n\u001b[0m\u001b[1;32m   3291\u001b[0m                 \u001b[0;34mf\"No such layer: {name}. Existing layers are: \"\u001b[0m\u001b[0;34m\u001b[0m\u001b[0;34m\u001b[0m\u001b[0m\n\u001b[1;32m   3292\u001b[0m                 \u001b[0;34mf\"{list(layer.name for layer in self.layers)}.\"\u001b[0m\u001b[0;34m\u001b[0m\u001b[0;34m\u001b[0m\u001b[0m\n",
            "\u001b[0;31mValueError\u001b[0m: No such layer: dense_1. Existing layers are: ['encoder_input', 'encoder_embedding', 'decoder_input', 'BiLSTM', 'decoder_embedding', 'concat_h', 'concat_c', 'decoder_lstm_1', 'dense']."
          ]
        }
      ],
      "source": [
        "\n",
        "targets = saved_model.get_layer('decoder_input').output           #Decoder input\n",
        "embedding_layer = saved_model.get_layer('decoder_embedding')      #Decoder Embedding layer\n",
        "decoder_lstm1 = saved_model.get_layer('decoder_lstm_1')           #Decoder LSTM layer\n",
        "dense1 = saved_model.get_layer('dense_1')"
      ],
      "id": "_JMMcDLATqYH"
    },
    {
      "cell_type": "code",
      "execution_count": null,
      "metadata": {
        "id": "hLzt7zC2TtL-"
      },
      "outputs": [],
      "source": [
        "#Encoder\n",
        "\n",
        "encoder = keras.Model(inputs, [concate_h, concate_c])\n",
        "encoder.summary()"
      ],
      "id": "hLzt7zC2TtL-"
    },
    {
      "cell_type": "code",
      "execution_count": null,
      "metadata": {
        "id": "lNu7iQI6Uj3q"
      },
      "outputs": [],
      "source": [
        "#Decoder\n",
        "\n",
        "decoder_input_h1 = Input(shape=(128,))\n",
        "decoder_input_c1 = Input(shape=(128,))\n",
        "\n",
        "x = embedding_layer(targets)\n"
      ],
      "id": "lNu7iQI6Uj3q"
    },
    {
      "cell_type": "code",
      "execution_count": null,
      "metadata": {
        "id": "XPmBtcvVUo_W"
      },
      "outputs": [],
      "source": [
        "x"
      ],
      "id": "XPmBtcvVUo_W"
    },
    {
      "cell_type": "code",
      "execution_count": null,
      "metadata": {
        "id": "Zla1FeUPUt7o"
      },
      "outputs": [],
      "source": [
        "x,d_out_h,d_out_c = decoder_lstm1(x, initial_state=[decoder_input_h1, decoder_input_c1])"
      ],
      "id": "Zla1FeUPUt7o"
    },
    {
      "cell_type": "code",
      "execution_count": null,
      "metadata": {
        "id": "ntDC6WYJUxtC"
      },
      "outputs": [],
      "source": [
        "#x = decoder_lstm2(x, initial_state=[decoder_input_h1, decoder_input_c1])\n",
        "\n",
        "x = dense1(x)\n",
        "x.shape\n"
      ],
      "id": "ntDC6WYJUxtC"
    },
    {
      "cell_type": "code",
      "execution_count": null,
      "metadata": {
        "id": "NDUG4ye_U1kq"
      },
      "outputs": [],
      "source": [
        "decoder = keras.Model([targets]+[decoder_input_h1, decoder_input_c1] , [x] + [d_out_h, d_out_c])\n",
        "\n",
        "decoder.summary()"
      ],
      "id": "NDUG4ye_U1kq"
    },
    {
      "cell_type": "code",
      "execution_count": null,
      "metadata": {
        "id": "ESQd2LqjU6Ch"
      },
      "outputs": [],
      "source": [
        "reverse_input_char_index = dict((i, char) for char, i in roman_tokens.items())\n",
        "reverse_target_char_index = dict((i, char) for char, i in ass_tokens.items())"
      ],
      "id": "ESQd2LqjU6Ch"
    },
    {
      "cell_type": "code",
      "execution_count": null,
      "metadata": {
        "id": "MyLf2ekyU9-I"
      },
      "outputs": [],
      "source": [
        "reverse_input_char_index"
      ],
      "id": "MyLf2ekyU9-I"
    },
    {
      "cell_type": "code",
      "execution_count": null,
      "metadata": {
        "id": "anwvjmD3VHup"
      },
      "outputs": [],
      "source": [
        "reverse_target_char_index"
      ],
      "id": "anwvjmD3VHup"
    },
    {
      "cell_type": "code",
      "execution_count": null,
      "metadata": {
        "id": "zZ7Eqgm8VLwy"
      },
      "outputs": [],
      "source": [
        "v = np.reshape(roman_padded[4], (1, -1))\n"
      ],
      "id": "zZ7Eqgm8VLwy"
    },
    {
      "cell_type": "code",
      "execution_count": null,
      "metadata": {
        "id": "yq9sUWpzVSsB"
      },
      "outputs": [],
      "source": [
        "encoder.predict(v,verbose=0)"
      ],
      "id": "yq9sUWpzVSsB"
    },
    {
      "cell_type": "code",
      "execution_count": null,
      "metadata": {
        "id": "h0QUAgF9Vbjx"
      },
      "outputs": [],
      "source": [
        "def predict_list_of_words(list_source_words_in_padded_int_seq):\n",
        "  list_pred_words = []\n",
        "  start_token = np.zeros((1, 1))\n",
        "  start_token[0] = ass_tokenizer.word_index['\\t']\n",
        "  print(start_token)\n",
        "\n",
        "  for x in tqdm(range(len(list_source_words_in_padded_int_seq))):\n",
        "    source_seq = start_token\n",
        "    pred_word = ''\n",
        "    v = np.reshape(list_source_words_in_padded_int_seq[x], (1, -1))\n",
        "    next_h, next_c = encoder.predict(v,verbose=0)\n",
        "    for i in range(max_decoder_seq_length_ass):\n",
        "      output, next_h, next_c = decoder.predict([source_seq] + [next_h, next_c],verbose=0)\n",
        "      next_token = np.argmax(output[0, 0, :])\n",
        "      next_char = reverse_target_char_index[next_token]\n",
        "      if next_char == '\\n':\n",
        "        break\n",
        "      else:\n",
        "        pred_word += next_char\n",
        "        source_seq = np.zeros((1, 1))\n",
        "        source_seq[0] = next_token\n",
        "    list_pred_words.append(pred_word)\n",
        "  return list_pred_words"
      ],
      "id": "h0QUAgF9Vbjx"
    },
    {
      "cell_type": "code",
      "execution_count": null,
      "metadata": {
        "id": "3pEOScyZVpyW"
      },
      "outputs": [],
      "source": [
        "predicted = predict_list_of_words(roman_padded[:20])"
      ],
      "id": "3pEOScyZVpyW"
    },
    {
      "cell_type": "code",
      "execution_count": null,
      "metadata": {
        "id": "KsGPSID8Vs_6"
      },
      "outputs": [],
      "source": [
        "df_analyse = pd.DataFrame()\n",
        "df_analyse[\"source\"] = roman_words[:20]\n",
        "df_analyse[\"predicted\"] = predicted\n",
        "df_analyse[\"ground_truth\"] = df_train[\"native word\"]\n",
        "\n",
        "df_analyse"
      ],
      "id": "KsGPSID8Vs_6"
    },
    {
      "cell_type": "code",
      "execution_count": null,
      "metadata": {
        "id": "Q_JFesTcVzc8"
      },
      "outputs": [],
      "source": [
        "test_roman_words = df_test['english word']\n",
        "test_target_words = df_test['native word']\n",
        "test_roman_words[2],test_target_words[2]"
      ],
      "id": "Q_JFesTcVzc8"
    },
    {
      "cell_type": "code",
      "execution_count": null,
      "metadata": {
        "id": "Bt-UDPUnV7ZF"
      },
      "outputs": [],
      "source": [
        "test_roman_words_in_ids = roman_tokenizer.texts_to_sequences(test_roman_words)\n",
        "test_target_words_in_ids = ass_tokenizer.texts_to_sequences(test_target_words)\n",
        "\n",
        "print(test_roman_words_in_ids[4])\n",
        "print(test_target_words_in_ids[4])"
      ],
      "id": "Bt-UDPUnV7ZF"
    },
    {
      "cell_type": "code",
      "execution_count": null,
      "metadata": {
        "id": "OTj2pl9UWF5r"
      },
      "outputs": [],
      "source": [
        "#2. padding\n",
        "\n",
        "test_roman_padded = post_padding(test_roman_words_in_ids, max_encoder_seq_length_roman)\n",
        "test_target_padded = post_padding(test_target_words_in_ids, max_decoder_seq_length_ass)\n",
        "\n",
        "print(test_roman_padded[2])\n",
        "print(test_target_padded[2])"
      ],
      "id": "OTj2pl9UWF5r"
    },
    {
      "cell_type": "code",
      "execution_count": null,
      "metadata": {
        "id": "zf5vvJ20WP0s"
      },
      "outputs": [],
      "source": [
        "len(test_roman_padded[2]), len(test_target_padded[2])"
      ],
      "id": "zf5vvJ20WP0s"
    },
    {
      "cell_type": "code",
      "execution_count": null,
      "metadata": {
        "id": "ecb4jFFoWd3T"
      },
      "outputs": [],
      "source": [
        "# prediction on test set\n",
        "\n",
        "predicted_test = predict_list_of_words(test_roman_padded[:1500])"
      ],
      "id": "ecb4jFFoWd3T"
    },
    {
      "cell_type": "code",
      "execution_count": null,
      "metadata": {
        "id": "B2f20WU3Whu4"
      },
      "outputs": [],
      "source": [
        "# analyse\n",
        "\n",
        "df_analyse_test = pd.DataFrame()\n",
        "df_analyse_test[\"source\"] = test_roman_words[:1500]\n",
        "df_analyse_test[\"predicted\"] = predicted_test\n",
        "df_analyse_test[\"ground_truth_label\"] = df_test[\"native word\"][:1500]\n",
        "\n",
        "df_analyse_test.head(10)"
      ],
      "id": "B2f20WU3Whu4"
    },
    {
      "cell_type": "code",
      "execution_count": null,
      "metadata": {
        "id": "QjT9ORs_aZsE"
      },
      "outputs": [],
      "source": [
        "# Calculate accuracy\n",
        "\n",
        "accuracy = (df_analyse_test['predicted'] == df_analyse_test['ground_truth_label']).mean()\n",
        "\n",
        "print(f'Test Accuracy = {accuracy*100:.2f}%')"
      ],
      "id": "QjT9ORs_aZsE"
    },
    {
      "cell_type": "code",
      "execution_count": null,
      "metadata": {
        "id": "IkC0oLWTaikf"
      },
      "outputs": [],
      "source": [
        "\n",
        "def split_characters(text_string):\n",
        "  return [character for character in text_string]\n",
        "\n",
        "split_characters('চ' 'তু' 'ৰ্থ')"
      ],
      "id": "IkC0oLWTaikf"
    },
    {
      "cell_type": "code",
      "execution_count": null,
      "metadata": {
        "id": "A3meo9Eda9WC"
      },
      "outputs": [],
      "source": [
        "df_analyse_test[\"predicted_tokenized\"] = df_analyse_test[\"predicted\"].apply(split_characters)\n",
        "df_analyse_test[\"label_tokenized\"] = df_analyse_test[\"ground_truth_label\"].apply(split_characters)\n",
        "\n",
        "df_analyse_test.head()"
      ],
      "id": "A3meo9Eda9WC"
    },
    {
      "cell_type": "code",
      "execution_count": null,
      "metadata": {
        "id": "_uRyiYwmbi6G"
      },
      "outputs": [],
      "source": [
        "def create_reference(tokenized):\n",
        "  return [tokenized]\n",
        "\n",
        "df_analyse_test[\"reference\"] = df_analyse_test[\"label_tokenized\"].apply(create_reference)\n",
        "df_analyse_test.head()"
      ],
      "id": "_uRyiYwmbi6G"
    },
    {
      "cell_type": "code",
      "execution_count": null,
      "metadata": {
        "id": "4b6QD4g-bEpE"
      },
      "outputs": [],
      "source": [
        "# BLEU Score\n",
        "\n",
        "# Convert DataFrame columns to lists\n",
        "predictions = df_analyse_test['predicted_tokenized'].tolist()\n",
        "true_labels = df_analyse_test['reference'].tolist()\n"
      ],
      "id": "4b6QD4g-bEpE"
    },
    {
      "cell_type": "code",
      "execution_count": null,
      "metadata": {
        "id": "BIivLq-lbOxD"
      },
      "outputs": [],
      "source": [
        "true_labels"
      ],
      "id": "BIivLq-lbOxD"
    },
    {
      "cell_type": "code",
      "execution_count": null,
      "metadata": {
        "id": "KBCp131Fbr6L"
      },
      "outputs": [],
      "source": [
        "predictions"
      ],
      "id": "KBCp131Fbr6L"
    },
    {
      "cell_type": "code",
      "execution_count": null,
      "metadata": {
        "id": "oEB3e-Drby01"
      },
      "outputs": [],
      "source": [
        "bleu = load_metric(\"bleu\")\n",
        "bleu.compute(predictions = predictions, references = true_labels)\n"
      ],
      "id": "oEB3e-Drby01"
    },
    {
      "cell_type": "code",
      "execution_count": null,
      "metadata": {
        "id": "K10l-cYEb76c",
        "outputId": "c0979c87-5f55-4096-e17e-be1aa5c9cc93",
        "colab": {
          "base_uri": "https://localhost:8080/",
          "height": 269
        }
      },
      "outputs": [
        {
          "name": "stdout",
          "output_type": "stream",
          "text": [
            "\n",
            "Enter a romanized word: shahir\n"
          ]
        },
        {
          "output_type": "error",
          "ename": "NameError",
          "evalue": "ignored",
          "traceback": [
            "\u001b[0;31m---------------------------------------------------------------------------\u001b[0m",
            "\u001b[0;31mNameError\u001b[0m                                 Traceback (most recent call last)",
            "\u001b[0;32m<ipython-input-1-4f9761379941>\u001b[0m in \u001b[0;36m<cell line: 26>\u001b[0;34m()\u001b[0m\n\u001b[1;32m     24\u001b[0m \u001b[0;34m\u001b[0m\u001b[0m\n\u001b[1;32m     25\u001b[0m \u001b[0minput_word\u001b[0m \u001b[0;34m=\u001b[0m \u001b[0minput\u001b[0m\u001b[0;34m(\u001b[0m\u001b[0;34m\"\\nEnter a romanized word: \"\u001b[0m\u001b[0;34m)\u001b[0m\u001b[0;34m\u001b[0m\u001b[0;34m\u001b[0m\u001b[0m\n\u001b[0;32m---> 26\u001b[0;31m \u001b[0minput_word_in_ids\u001b[0m \u001b[0;34m=\u001b[0m \u001b[0mroman_tokenizer\u001b[0m\u001b[0;34m.\u001b[0m\u001b[0mtexts_to_sequences\u001b[0m\u001b[0;34m(\u001b[0m\u001b[0;34m[\u001b[0m\u001b[0minput_word\u001b[0m\u001b[0;34m]\u001b[0m\u001b[0;34m)\u001b[0m\u001b[0;34m\u001b[0m\u001b[0;34m\u001b[0m\u001b[0m\n\u001b[0m\u001b[1;32m     27\u001b[0m \u001b[0;34m\u001b[0m\u001b[0m\n\u001b[1;32m     28\u001b[0m \u001b[0minput_word_in_ids_padded\u001b[0m \u001b[0;34m=\u001b[0m \u001b[0mpost_padding\u001b[0m\u001b[0;34m(\u001b[0m\u001b[0minput_word_in_ids\u001b[0m\u001b[0;34m,\u001b[0m \u001b[0mmax_encoder_seq_length_roman\u001b[0m\u001b[0;34m)\u001b[0m\u001b[0;34m\u001b[0m\u001b[0;34m\u001b[0m\u001b[0m\n",
            "\u001b[0;31mNameError\u001b[0m: name 'roman_tokenizer' is not defined"
          ]
        }
      ],
      "source": [
        "def transliterate(source_word_in_padded_int_seq):\n",
        "  #list_pred_words = []\n",
        "  start_token = np.zeros((1, 1))\n",
        "  start_token[0] = ass_tokenizer.word_index['\\t']\n",
        "  #print(start_token)\n",
        "\n",
        "  #for x in tqdm(range(len(list_source_words_in_padded_int_seq))):\n",
        "  source_seq = start_token\n",
        "  pred_word = ''\n",
        "  #v = np.reshape(source_word_in_padded_int_seq, (1, -1))\n",
        "  next_h, next_c = encoder.predict(source_word_in_padded_int_seq,verbose=0)\n",
        "  for i in range(max_decoder_seq_length_ass):\n",
        "    output, next_h, next_c = decoder.predict([source_seq] + [next_h, next_c],verbose=0)\n",
        "    next_token = np.argmax(output[0, 0, :])\n",
        "    next_char = reverse_target_char_index[next_token]\n",
        "    if next_char == '\\n':\n",
        "      break\n",
        "    else:\n",
        "      pred_word += next_char\n",
        "      source_seq = np.zeros((1, 1))\n",
        "      source_seq[0] = next_token\n",
        "  #list_pred_words.append(pred_word)\n",
        "  return pred_word\n",
        "\n",
        "input_word = input(\"\\nEnter a romanized word: \")\n",
        "input_word_in_ids = roman_tokenizer.texts_to_sequences([input_word])\n",
        "\n",
        "input_word_in_ids_padded = post_padding(input_word_in_ids, max_encoder_seq_length_roman)\n",
        "\n",
        "print(f\"\\nTransliterated word : {transliterate(input_word_in_ids_padded)}\")\n"
      ],
      "id": "K10l-cYEb76c"
    },
    {
      "cell_type": "code",
      "execution_count": null,
      "metadata": {
        "id": "gTbtmEBWcNGE"
      },
      "outputs": [],
      "source": [],
      "id": "gTbtmEBWcNGE"
    }
  ],
  "metadata": {
    "accelerator": "GPU",
    "colab": {
      "provenance": []
    },
    "kernelspec": {
      "display_name": "Python 3",
      "name": "python3"
    },
    "language_info": {
      "codemirror_mode": {
        "name": "ipython",
        "version": 3
      },
      "file_extension": ".py",
      "mimetype": "text/x-python",
      "name": "python",
      "nbconvert_exporter": "python",
      "pygments_lexer": "ipython3",
      "version": "3.9.16"
    }
  },
  "nbformat": 4,
  "nbformat_minor": 5
}